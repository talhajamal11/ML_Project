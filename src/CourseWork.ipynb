{
  "cells": [
    {
      "cell_type": "markdown",
      "metadata": {
        "colab_type": "text",
        "id": "view-in-github"
      },
      "source": [
        "<a href=\"https://colab.research.google.com/github/Jandsy/ml_finance_imperial/blob/main/Coursework/CourseWork.ipynb\" target=\"_parent\"><img src=\"https://colab.research.google.com/assets/colab-badge.svg\" alt=\"Open In Colab\"/></a>"
      ]
    },
    {
      "cell_type": "markdown",
      "metadata": {
        "id": "zSIsUTeyXNr_"
      },
      "source": [
        "# **<center>Machine Learning and Finance </center>**\n",
        "\n",
        "\n",
        "## <center> CourseWork 2024 - StatArb </center>\n"
      ]
    },
    {
      "cell_type": "markdown",
      "metadata": {
        "id": "kBDj0uD44dQL"
      },
      "source": [
        "\n",
        "In this coursework, you will delve into and replicate selected elements of the research detailed in the paper **[End-to-End Policy Learning of a Statistical Arbitrage Autoencoder Architecture](https://arxiv.org/pdf/2402.08233.pdf)**. **However, we will not reproduce the entire study.**\n",
        "\n",
        "## Overview\n",
        "\n",
        "This study redefines Statistical Arbitrage (StatArb) by combining Autoencoder architectures and policy learning to generate trading strategies. Traditionally, StatArb involves finding the mean of a synthetic asset through classical or PCA-based methods before developing a mean reversion strategy. However, this paper proposes a data-driven approach using an Autoencoder trained on US stock returns, integrated into a neural network representing portfolio trading policies to output portfolio allocations directly.\n",
        "\n",
        "\n",
        "## Coursework Goal\n",
        "\n",
        "This coursework will replicate these results, providing hands-on experience in implementing and evaluating this innovative end-to-end policy learning Autoencoder within financial trading strategies.\n",
        "\n",
        "## Outline\n",
        "\n",
        "- [Data Preparation and Exploration](#Data-Preparation-and-Exploration)\n",
        "- [Fama French Analysis](#Fama-French-Analysis)\n",
        "- [PCA Analysis](#PCA-Analysis)\n",
        "- [Ornstein Uhlenbeck](#Ornstein-Uhlenbeck)\n",
        "- [Autoencoder Analysis](#Autoencoder-Analysis)\n",
        "\n",
        "\n",
        "\n",
        "**Description:**\n",
        "The Coursework is graded on a 100 point scale and is divided into five  parts. Below is the mark distribution for each question:\n",
        "\n",
        "| **Problem**  | **Question**          | **Number of Marks** |\n",
        "|--------------|-----------------------|---------------------|\n",
        "| **Part A**   | Question 1            | 4                   |\n",
        "|              | Question 2            | 1                   |\n",
        "|              | Question 3            | 3                   |\n",
        "|              | Question 4            | 3                   |\n",
        "|              | Question 5            | 1                   |\n",
        "|              | Question 6            | 3                   |\n",
        "|**Part  B**    | Question 7           | 1                   |\n",
        "|              | Question 8            | 5                   |\n",
        "|              | Question 9            | 4                   |\n",
        "|              | Question 10           | 5                   |\n",
        "|              | Question 11           | 2                   |\n",
        "|              | Question 12           | 3                   |\n",
        "|**Part  C**    | Question 13          | 3                   |\n",
        "|              | Question 14           | 1                   |\n",
        "|              | Question 15           | 3                   |\n",
        "|              | Question 16           | 2                   |\n",
        "|              | Question 17           | 7                   |\n",
        "|              | Question 18           | 6                   |\n",
        "|              | Question 19           | 3                   |\n",
        "|  **Part  D** | Question 20           | 3                   |\n",
        "|              | Question 21           | 5                   |\n",
        "|              | Question 22           | 2                   |\n",
        "|  **Part  E** | Question 23           | 2                   |\n",
        "|              | Question 24           | 1                   |\n",
        "|              | Question 25           | 3                   |\n",
        "|              | Question 26           | 10                  |\n",
        "|              | Question 27           | 1                   |\n",
        "|              | Question 28           | 3                   |\n",
        "|              | Question 29           | 3                   |\n",
        "|              | Question 30           | 7                   |\n",
        "\n",
        "\n",
        "\n",
        "\n",
        "Please read the questions carefully and do your best. Good luck!\n",
        "\n",
        "## Objectives\n",
        "\n",
        "\n",
        "\n",
        "## 1. Data Preparation and Exploration\n",
        "Collect, clean, and prepare US stock return data for analysis.\n",
        "\n",
        "## 2. Fama French Analysis\n",
        "Utilize Fama French Factors to isolate the idiosyncratic components of stock returns, differentiating them from market-wide effects. This analysis helps in understanding the unique characteristics of individual stocks relative to broader market trends.\n",
        "\n",
        "## 3. PCA Analysis\n",
        "Employ Principal Component Analysis (PCA) to identify hidden structures and reduce dimensionality in the data. This method helps in extracting significant patterns that might be obscured in high-dimensional datasets.\n",
        "\n",
        "## 4. Ornstein-Uhlenbeck Process\n",
        "Analyze mean-reverting behavior in stock prices using the Ornstein-Uhlenbeck process. This stochastic process is useful for modeling and forecasting based on the assumption that prices will revert to a long-term mean.\n",
        "\n",
        "## 5. Building a Basic Autoencoder Model\n",
        "Construct and train a standard Autoencoder to extract residual idiosyncratic risk.\n",
        "\n",
        "\n",
        "\n",
        "\n",
        "\n",
        "\n"
      ]
    },
    {
      "cell_type": "markdown",
      "metadata": {
        "id": "pFU9ckGplGDf"
      },
      "source": [
        "# Data Preparation and Exploration"
      ]
    },
    {
      "cell_type": "markdown",
      "metadata": {
        "id": "yiqyU4DQlxsV"
      },
      "source": [
        "\n",
        "---\n",
        "<font color=green>Q1: (4 Marks)</font>\n",
        "<br><font color='green'>\n",
        "Write a Python function that accepts a URL parameter and retrieves the NASDAQ-100 companies and their ticker symbols by scraping the relevant Wikipedia page using **[Requests](https://pypi.org/project/requests/)** and **[BeautifulSoup](https://www.crummy.com/software/BeautifulSoup/bs4/doc/)**. Your function should return the data as a list of tuples, with each tuple containing the company name and its ticker symbol. Then, call your function with the appropriate Wikipedia page URL and print the data in a 'Company: Ticker' format.\n",
        "\n",
        "</font>\n",
        "\n",
        "---\n"
      ]
    },
    {
      "cell_type": "code",
      "execution_count": 3,
      "metadata": {
        "id": "lcJXF6aSxCGu"
      },
      "outputs": [],
      "source": [
        "import numpy as np\n",
        "import matplotlib.pyplot as plt\n"
      ]
    },
    {
      "cell_type": "code",
      "execution_count": 4,
      "metadata": {},
      "outputs": [
        {
          "name": "stdout",
          "output_type": "stream",
          "text": [
            "Adobe Inc.: ADBE\n",
            "ADP: ADP\n",
            "Airbnb: ABNB\n",
            "Alphabet Inc. (Class A): GOOGL\n",
            "Alphabet Inc. (Class C): GOOG\n",
            "Amazon: AMZN\n",
            "Advanced Micro Devices Inc.: AMD\n",
            "American Electric Power: AEP\n",
            "Amgen: AMGN\n",
            "Analog Devices: ADI\n",
            "Ansys: ANSS\n",
            "Apple Inc.: AAPL\n",
            "Applied Materials: AMAT\n",
            "ASML Holding: ASML\n",
            "AstraZeneca: AZN\n",
            "Atlassian: TEAM\n",
            "Autodesk: ADSK\n",
            "Baker Hughes: BKR\n",
            "Biogen: BIIB\n",
            "Booking Holdings: BKNG\n",
            "Broadcom Inc.: AVGO\n",
            "Cadence Design Systems: CDNS\n",
            "CDW Corporation: CDW\n",
            "Charter Communications: CHTR\n",
            "Cintas: CTAS\n",
            "Cisco: CSCO\n",
            "Coca-Cola Europacific Partners: CCEP\n",
            "Cognizant: CTSH\n",
            "Comcast: CMCSA\n",
            "Constellation Energy: CEG\n",
            "Copart: CPRT\n",
            "CoStar Group: CSGP\n",
            "Costco: COST\n",
            "CrowdStrike: CRWD\n",
            "CSX Corporation: CSX\n",
            "Datadog: DDOG\n",
            "DexCom: DXCM\n",
            "Diamondback Energy: FANG\n",
            "Dollar Tree: DLTR\n",
            "DoorDash: DASH\n",
            "Electronic Arts: EA\n",
            "Exelon: EXC\n",
            "Fastenal: FAST\n",
            "Fortinet: FTNT\n",
            "GE HealthCare: GEHC\n",
            "Gilead Sciences: GILD\n",
            "GlobalFoundries: GFS\n",
            "Honeywell: HON\n",
            "Idexx Laboratories: IDXX\n",
            "Illumina, Inc.: ILMN\n",
            "Intel: INTC\n",
            "Intuit: INTU\n",
            "Intuitive Surgical: ISRG\n",
            "Keurig Dr Pepper: KDP\n",
            "KLA Corporation: KLAC\n",
            "Kraft Heinz: KHC\n",
            "Lam Research: LRCX\n",
            "Linde plc: LIN\n",
            "Lululemon: LULU\n",
            "Marriott International: MAR\n",
            "Marvell Technology: MRVL\n",
            "MercadoLibre: MELI\n",
            "Meta Platforms: META\n",
            "Microchip Technology: MCHP\n",
            "Micron Technology: MU\n",
            "Microsoft: MSFT\n",
            "Moderna: MRNA\n",
            "Mondelēz International: MDLZ\n",
            "MongoDB Inc.: MDB\n",
            "Monster Beverage: MNST\n",
            "Netflix: NFLX\n",
            "Nvidia: NVDA\n",
            "NXP: NXPI\n",
            "O'Reilly Automotive: ORLY\n",
            "Old Dominion Freight Line: ODFL\n",
            "Onsemi: ON\n",
            "Paccar: PCAR\n",
            "Palo Alto Networks: PANW\n",
            "Paychex: PAYX\n",
            "PayPal: PYPL\n",
            "PDD Holdings: PDD\n",
            "PepsiCo: PEP\n",
            "Qualcomm: QCOM\n",
            "Regeneron: REGN\n",
            "Roper Technologies: ROP\n",
            "Ross Stores: ROST\n",
            "Sirius XM: SIRI\n",
            "Starbucks: SBUX\n",
            "Synopsys: SNPS\n",
            "Take-Two Interactive: TTWO\n",
            "T-Mobile US: TMUS\n",
            "Tesla, Inc.: TSLA\n",
            "Texas Instruments: TXN\n",
            "The Trade Desk: TTD\n",
            "Verisk: VRSK\n",
            "Vertex Pharmaceuticals: VRTX\n",
            "Walgreens Boots Alliance: WBA\n",
            "Warner Bros. Discovery: WBD\n",
            "Workday, Inc.: WDAY\n",
            "Xcel Energy: XEL\n",
            "Zscaler: ZS\n"
          ]
        }
      ],
      "source": [
        "import requests\n",
        "from bs4 import BeautifulSoup\n",
        "\n",
        "def get_nasdaq100_companies(url):\n",
        "    response = requests.get(url) \n",
        "    soup = BeautifulSoup(response.content, 'html.parser') \n",
        "    table = soup.find('table', {'id': 'constituents'}) \n",
        "    rows = table.find_all('tr')\n",
        "    data = []\n",
        "    for row in rows[1:]:\n",
        "        cols = row.find_all('td')\n",
        "        data.append((cols[0].text.strip(), cols[1].text.strip()))\n",
        "    return data\n",
        "\n",
        "url = 'https://en.wikipedia.org/wiki/NASDAQ-100'\n",
        "data = get_nasdaq100_companies(url)"
      ]
    },
    {
      "cell_type": "markdown",
      "metadata": {
        "id": "9VvyNAF9sE7u"
      },
      "source": [
        "---\n",
        "<font color=green>Q2: (1 Mark)</font>\n",
        "<br><font color='green'>\n",
        "Given a list of tuples representing NASDAQ-100 companies (where each tuple contains a company name and its ticker symbol), write a Python script to extract all ticker symbols into a separate list called `tickers_list`.\n",
        "</font>\n",
        "---\n"
      ]
    },
    {
      "cell_type": "code",
      "execution_count": null,
      "metadata": {
        "id": "yQaWckkXxDLP"
      },
      "outputs": [],
      "source": [
        "## Insert your code here"
      ]
    },
    {
      "cell_type": "markdown",
      "metadata": {
        "id": "2KEkAPUxsW4s"
      },
      "source": [
        "---\n",
        "<font color=green>Q3: (3 Marks)</font>\n",
        "<br><font color='green'>\n",
        "Using **[yfinance](https://pypi.org/project/yfinance/)** library, write a Python script that accepts a list of stock ticker symbols. For each symbol, download the adjusted closing price data, store it in a dictionary with the ticker symbol as the key, and then convert the final dictionary into a Pandas DataFrame. Handle any errors encountered during data retrieval by printing a message indicating which symbol failed\n",
        "</font>\n",
        "---"
      ]
    },
    {
      "cell_type": "code",
      "execution_count": null,
      "metadata": {
        "id": "pynohwbpxEg5"
      },
      "outputs": [],
      "source": [
        "## Insert your code here"
      ]
    },
    {
      "cell_type": "markdown",
      "metadata": {
        "id": "Np3XHMtatQC_"
      },
      "source": [
        "---\n",
        "<font color=green>Q4: (3 Marks)</font>\n",
        "<br><font color='green'>\n",
        "Write a Python script to analyze stock data stored in a dictionary `stock_data` (where each key is a stock ticker symbol, and each value is a Pandas Series of adjusted closing prices). The script should:\n",
        "1. Convert the dictionary into a DataFrame.\n",
        "2. Calculate the daily returns for each stock.\n",
        "3. Identify columns (ticker symbols) with at least 2000 non-NaN values in their daily returns.\n",
        "4. Create a new DataFrame that only includes these filtered ticker symbols.\n",
        "5. Remove any remaining rows with NaN values in this new DataFrame.\n",
        "</font>\n",
        "\n",
        "---"
      ]
    },
    {
      "cell_type": "code",
      "execution_count": null,
      "metadata": {
        "id": "2pt3y9_IxFjz"
      },
      "outputs": [],
      "source": [
        "## Insert your code here"
      ]
    },
    {
      "cell_type": "markdown",
      "metadata": {
        "id": "O3xAawJ8nPbH"
      },
      "source": [
        "---\n",
        "<font color=green>Q5: (1 Mark)</font>\n",
        "<br><font color='green'>\n",
        "Download the dataset named `df_filtered_nasdaq_100` from the GitHub repository of the course.\n",
        "</font>\n",
        "\n",
        "---"
      ]
    },
    {
      "cell_type": "code",
      "execution_count": null,
      "metadata": {
        "id": "Ko4juu_HxHnT"
      },
      "outputs": [],
      "source": [
        "## Insert your code here"
      ]
    },
    {
      "cell_type": "markdown",
      "metadata": {
        "id": "1WbCUDabWQoZ"
      },
      "source": [
        "---\n",
        "<font color=green>Q6: (3 Marks) </font>\n",
        "<br><font color='green'>\n",
        "Conduct an in-depth analysis of the `df_filtered_nasdaq_100` dataset from GitHub. Answer the following questions:\n",
        "- Which stock had the best performance over the entire period?\n",
        "- What is the average daily return of 'AAPL'?\n",
        "- What is the worst daily return? Provide the stock name and the date it occurred.\n",
        "</font>\n",
        "\n",
        "---"
      ]
    },
    {
      "cell_type": "code",
      "execution_count": null,
      "metadata": {
        "id": "kPfiDWWlxI0Z"
      },
      "outputs": [],
      "source": [
        "## Insert your code here"
      ]
    },
    {
      "cell_type": "markdown",
      "metadata": {
        "id": "hcY-V82zXGqc"
      },
      "source": [
        "# Fama French Analysis\n",
        "\n",
        "The Fama-French five-factor model is an extension of the classic three-factor model used in finance to describe stock returns. It is designed to better capture the risk associated with stocks and explain differences in returns. This model includes the following factors:\n",
        "\n",
        "1. **Market Risk (MKT)**: The excess return of the market over the risk-free rate. It captures the overall market's premium.\n",
        "2. **Size (SMB, \"Small Minus Big\")**: The performance of small-cap stocks relative to large-cap stocks.\n",
        "3. **Value (HML, \"High Minus Low\")**: The performance of stocks with high book-to-market values relative to those with low book-to-market values.\n",
        "4. **Profitability (RMW, \"Robust Minus Weak\")**: The difference in returns between companies with robust (high) and weak (low) profitability.\n",
        "5. **Investment (CMA, \"Conservative Minus Aggressive\")**: The difference in returns between companies that invest conservatively and those that invest aggressively.\n",
        "\n",
        "## Additional Factor\n",
        "\n",
        "6. **Momentum (MOM)**: This factor represents the tendency of stocks that have performed well in the past to continue performing well, and the reverse for stocks that have performed poorly.\n",
        "\n",
        "### Mathematical Representation\n",
        "\n",
        "The return of a stock $R_i^t$ at time $t$ can be modeled as follows :\n",
        "\n",
        "$$\n",
        "R_i^t - R_f^t = \\alpha_i^t + \\beta_{i,MKT}^t(R_M^t - R_f^t) + \\beta_{i,SMB}^t \\cdot SMB^t + \\beta_{i,HML}^t \\cdot HML^t + \\beta_{i,RMW}^t \\cdot RMW^t + \\beta_{i,CMA}^t \\cdot CMA^t + \\beta_{i,MOM}^t \\cdot MOM^t + \\epsilon_i^t\n",
        "$$\n",
        "\n",
        "Where:\n",
        "- $ R_i^t $ is the return of stock $i$ at time $t$\n",
        "- $R_f^t $is the risk-free rate at time $t$\n",
        "- $ R_M^t $ is the market return at time $t$\n",
        "- $\\alpha_i^t $ is the abnormal return or alpha of stock $ i $ at time $t$\n",
        "- $\\beta^t $ coefficients represent the sensitivity of the stock returns to each factor at time $t$\n",
        "- $\\epsilon_i^t $ is the error term or idiosyncratic risk unique to stock $ i $ at time $t$\n",
        "\n",
        "This model is particularly useful for identifying which factors significantly impact stock returns and for constructing a diversified portfolio that is optimized for given risk preferences.\n",
        "\n",
        "\n"
      ]
    },
    {
      "cell_type": "markdown",
      "metadata": {
        "id": "qtFgmpsKQc8B"
      },
      "source": [
        "---\n",
        "<font color=green>Q7: (1 Mark) </font>\n",
        "<br><font color='green'>\n",
        "Download the `fama_french_dataset` from the course's GitHub account.\n",
        "</font>\n",
        "\n",
        "---"
      ]
    },
    {
      "cell_type": "code",
      "execution_count": null,
      "metadata": {
        "id": "iJVPHhTSxKuk"
      },
      "outputs": [],
      "source": [
        "## Insert your code here"
      ]
    },
    {
      "cell_type": "markdown",
      "metadata": {
        "id": "S5FJ362KW-wh"
      },
      "source": [
        "---\n",
        "<font color=green>Q8: (5 Marks)</font>\n",
        "<br><font color='green'>\n",
        "\n",
        "Write a Python function called `get_sub_df_ticker(ticker, date, df_filtered, length_history)` that extracts a historical sub-dataframe for a given `ticker` from `df_filtered`. The function should use `length_history` to determine the number of trading days to include, ending at the specified `date`. Return the sub-dataframe for the specified `ticker`.\n",
        "</font>\n",
        "\n",
        "---\n"
      ]
    },
    {
      "cell_type": "code",
      "execution_count": null,
      "metadata": {
        "id": "2mIrS_fpxLsR"
      },
      "outputs": [],
      "source": [
        "## Insert your code here"
      ]
    },
    {
      "cell_type": "markdown",
      "metadata": {
        "id": "T-p7nCNYXYNr"
      },
      "source": [
        "---\n",
        "<font color=green>Q9: (4 Marks)</font>\n",
        "<br><font color='green'>\n",
        "Create a Python function named `df_ticker_with_fama_french(ticker, date, df_filtered, length_history, fama_french_data)` that uses `get_sub_df_ticker` to extract historical data for a specific `ticker`. Incorporate the Fama-French factors from `fama_french_data` into the extracted sub-dataframe. Adjust the ticker's returns by subtracting the risk-free rate ('RF') and add other relevant Fama-French factors ('Mkt-RF', 'SMB', 'HML', 'RMW', 'CMA', and 'Mom'). Return the resulting sub-dataframe.\n",
        "</font>\n",
        "\n",
        "---"
      ]
    },
    {
      "cell_type": "code",
      "execution_count": null,
      "metadata": {
        "id": "pfsdj79HxMnp"
      },
      "outputs": [],
      "source": [
        "## Insert your code here"
      ]
    },
    {
      "cell_type": "markdown",
      "metadata": {
        "id": "ykVqmW4PQe5T"
      },
      "source": [
        "---\n",
        "<font color=green>Q10: (5 Marks) </font>\n",
        "<br><font color='green'>\n",
        "Write a Python function named `extract_beta_fama_french` to perform a rolling regression analysis for a given stock at a specific time point using the Fama-French model. The function should accept the following parameters:\n",
        "\n",
        "- `ticker`: A string indicating the stock symbol.\n",
        "- `date`: A string specifying the date for the analysis.\n",
        "- `length_history`: An integer representing the number of days of historical data to include.\n",
        "- `df_filtered`: A pandas DataFrame (assumed to be derived from question 5) containing filtered stock data.\n",
        "- `fama_french_data`: A pandas DataFrame (assumed to be from question 7) that includes Fama-French factors.\n",
        "\n",
        "Utilize the `statsmodels.api` library to conduct the regression.\n",
        "</font>\n",
        "\n",
        "---"
      ]
    },
    {
      "cell_type": "code",
      "execution_count": null,
      "metadata": {
        "id": "VGSUB3UDxN2B"
      },
      "outputs": [],
      "source": [
        "## Insert your code here"
      ]
    },
    {
      "cell_type": "markdown",
      "metadata": {
        "id": "BY8FqrBjRDTz"
      },
      "source": [
        "---\n",
        "<font color=green>Q11: (2 Marks) </font>\n",
        "<br><font color='green'>\n",
        "Apply the `extract_beta_fama_french` function to the stock symbol 'AAPL' for the date '2024-03-28', using a historical data length of 252 days. Ensure that the `df_filtered` and `fama_french_data` DataFrames are correctly prepared and available in your environment before executing this function. The parameters for the function call are set as follows:\n",
        "\n",
        "- **Ticker**: 'AAPL'\n",
        "- **Date**: '2024-03-28'\n",
        "- **Length of History**: 252 days\n",
        "</font>\n",
        "\n",
        "---\n",
        "\n"
      ]
    },
    {
      "cell_type": "code",
      "execution_count": null,
      "metadata": {
        "id": "fo6C5-qXxPZO"
      },
      "outputs": [],
      "source": [
        "## Insert your code here"
      ]
    },
    {
      "cell_type": "markdown",
      "metadata": {
        "id": "-DyA4G1d0HjY"
      },
      "source": [
        "---\n",
        "<font color=green>Q12: (2 Marks)</font>\n",
        "<br><font color='green'>\n",
        "Once the `extract_beta_fama_french` function has been applied to 'AAPL' with the specified parameters, the next step is to analyze the regression summary to identify which Fama-French factor explains the most variance in 'AAPL' returns during the specified period.\n",
        "\n",
        "Follow these steps to perform the analysis:\n",
        "\n",
        "1. **Review the Summary**: Examine the regression output, focusing on the coefficients and their statistical significance (p-values).\n",
        "2. **Identify Key Factor**: Determine which factor has the highest absolute coefficient value and is statistically significant (typically p < 0.05). This factor can be considered as having the strongest influence on 'AAPL' returns for the period.\n",
        "\n",
        "</font>\n",
        "\n",
        "---"
      ]
    },
    {
      "cell_type": "markdown",
      "metadata": {
        "id": "thaIsaiFWWNO"
      },
      "source": [
        "**Write your answers here:**"
      ]
    },
    {
      "cell_type": "markdown",
      "metadata": {
        "id": "Pj7qlAq-J8N2"
      },
      "source": [
        "# PCA Analysis"
      ]
    },
    {
      "cell_type": "markdown",
      "metadata": {
        "id": "Qty6V05YXxti"
      },
      "source": [
        "\n",
        "In literature, another method exists for extracting residuals for each stock, utilizing the PCA approach to identify hidden factors in the data. Let's describe this method.\n",
        "\n",
        "The return of a stock $R_i^t$ at time $t$ can be modeled as follows :\n",
        "\n",
        "$$\n",
        "R_i^t  = \\sum_{j=1}^m\\beta_{i,j}^t F_j^t  + \\epsilon_i^t\n",
        "$$\n",
        "\n",
        "Where:\n",
        "- $ R_i^t $ is the return of stock $i$ at time $t$\n",
        "- $m$ is the number of factors selected from PCA\n",
        "-  $ F_j^t $ is the $j$-th hidden factor constructed from PCA at time $t$\n",
        "- $\\beta_{i,j}^t $ are the coefficients representing the sensitivity of the stock returns to each hidden factor.\n",
        "- $\\epsilon_i^t $  is the residual term for stock $i$ at time $t$, representing the portion of the return not explained by the PCA factors.\n",
        "\n",
        "### Representation of Stock Return Data\n",
        "\n",
        "Consider the return data for $N$ stocks over $T$ periods, represented by the matrix $R$ of size $T \\times N$:\n",
        "\n",
        "$$\n",
        "R = \\left[\n",
        "\\begin{array}{cccc}\n",
        "R_1^T & R_2^T & \\cdots & R_N^T \\\\\n",
        "R_1^{T-1} & R_2^{T-1} & \\cdots & R_N^{T-1} \\\\\n",
        "\\vdots & \\vdots & \\ddots & \\vdots \\\\\n",
        "R_1^1 & R_2^1 & \\cdots & R_N^1 \\\\\n",
        "\\end{array}\n",
        "\\right]\n",
        "$$\n",
        "\n",
        "Each element $R_i^k$ of the matrix represents the return of stock $i$ at time $k$ and is defined as:\n",
        "\n",
        "$$\n",
        "R_i^k = \\frac{S_{i,k} - S_{i, k-1}}{S_{i, k-1}}, \\quad k=1,\\cdots, T, \\quad i=1,\\cdots,N\n",
        "$$\n",
        "\n",
        "where $S_{i,k}$ denotes the adjusted close price of stock $i$ at time $k$.\n",
        "\n",
        "### Standardization of Returns\n",
        "\n",
        "To adjust for varying volatilities across stocks, we standardize the returns as follows:\n",
        "\n",
        "$$\n",
        "Z_i^t = \\frac{R_i^t - \\mu_i}{\\sigma_i}\n",
        "$$\n",
        "\n",
        "where $\\mu_i$ and $\\sigma_i$ are the mean and standard deviation of returns for stock $i$ over the period $[t-T, t]$, respectively.\n",
        "\n",
        "### Empirical Correlation Matrix\n",
        "\n",
        "The empirical correlation matrix $C$ is computed from the standardized returns:\n",
        "\n",
        "$$\n",
        "C = \\frac{1}{T-1} Z^T Z\n",
        "$$\n",
        "\n",
        "where $Z^T$ is the transpose of matrix $Z$.\n",
        "\n",
        "### Singular Value Decomposition (SVD)\n",
        "\n",
        "We apply Singular Value Decomposition to the correlation matrix $C$:\n",
        "\n",
        "$$\n",
        "C = U \\Sigma V^T\n",
        "$$\n",
        "\n",
        "Here, $U$ and $V$ are orthogonal matrices representing the left and right singular vectors, respectively, and $\\Sigma$ is a diagonal matrix containing the singular values, which are the square roots of the eigenvalues.\n",
        "\n",
        "### Construction of Hidden Factors\n",
        "\n",
        "For each of the top $m$ components, we construct the selected hidden factors as follows:\n",
        "\n",
        "$$\n",
        "F_j^t = \\sum_{i=1}^N \\frac{\\lambda_{i,j}}{\\sigma_i} R_i^t\n",
        "$$\n",
        "\n",
        "where $\\lambda_{i,j}$ is the $i$-th component of the $j$-th eigenvector (ranked by eigenvalue magnitude).\n"
      ]
    },
    {
      "cell_type": "markdown",
      "metadata": {
        "id": "XIkNjUbFZ3Wy"
      },
      "source": [
        "---\n",
        "<font color=green>Q13 (3 Marks):\n",
        "\n",
        "For the specified period from March 29, 2023 ('2023-03-29'), to March 28, 2024 ('2024-03-28'), generate the matrix $Z$ by standardizing the stock returns using the DataFrame `df_filtered_new`\n",
        "</font>\n",
        "\n",
        "---\n"
      ]
    },
    {
      "cell_type": "code",
      "execution_count": null,
      "metadata": {
        "id": "AqhmrY9xcbnk"
      },
      "outputs": [],
      "source": [
        "## Insert your code here"
      ]
    },
    {
      "cell_type": "markdown",
      "metadata": {
        "id": "Quv2tOhXch4-"
      },
      "source": [
        "---\n",
        "<font color=green>Q14: (1 Mark) </font>\n",
        "<br><font color='green'>\n",
        "Download the `Z_matrix` matrix from the course's GitHub account.\n",
        "</font>\n",
        "\n",
        "---"
      ]
    },
    {
      "cell_type": "code",
      "execution_count": null,
      "metadata": {
        "id": "NmSz-J_oxYQa"
      },
      "outputs": [],
      "source": [
        "## Insert your code here"
      ]
    },
    {
      "cell_type": "markdown",
      "metadata": {
        "id": "2d-2MrrzatMc"
      },
      "source": [
        "---\n",
        "<font color=green>Q15: (3 Marks) </font>\n",
        "<br><font color='green'>\n",
        "For the specified period from March 29, 2023 ('2023-03-29'), to March 28, 2024 ('2024-03-28'), compute the correlation matrix\n",
        "$C$ using the matrix `Z_matrix`.\n",
        "</font>\n",
        "\n",
        "---"
      ]
    },
    {
      "cell_type": "code",
      "execution_count": null,
      "metadata": {
        "id": "2rRt-HL1xZqA"
      },
      "outputs": [],
      "source": [
        "## Insert your code here"
      ]
    },
    {
      "cell_type": "markdown",
      "metadata": {
        "id": "7FnUvUEkjAbG"
      },
      "source": [
        "---\n",
        "<font color=green>Q16: (2 Marks) </font>\n",
        "<br><font color='green'>\n",
        "Refind the correlation matrix from the from March 29, 2023 ('2023-03-29'), to March 28, 2024 ('2024-03-28') using pandas correlation matrix method.\n",
        "</font>\n",
        "\n",
        "---"
      ]
    },
    {
      "cell_type": "code",
      "execution_count": null,
      "metadata": {
        "id": "T_g-VjITxasb"
      },
      "outputs": [],
      "source": [
        "## Insert your code here"
      ]
    },
    {
      "cell_type": "markdown",
      "metadata": {
        "id": "lvsiMvgfaxzW"
      },
      "source": [
        "---\n",
        "<font color=green>Q17: (7 Marks) </font>\n",
        "<br><font color='green'>\n",
        "Conduct Singular Value Decomposition on the correlation matrix $C$. Follow these steps:\n",
        "\n",
        "\n",
        "1.   **Perform SVD**: Decompose the matrix $C$ into its singular values and vectors.\n",
        "2.   **Rank Eigenvalues**: Sort the resulting singular values (often squared to compare to eigenvalues) in descending order.\n",
        "3. **Select Components**: Extract the first 20 components based on the largest singular values.\n",
        "4. **Variance Explained**: Print the variance explained by the first 20 Components and dimensions of differents matrix that you created.\n",
        "\n",
        "</font>\n",
        "\n",
        "---"
      ]
    },
    {
      "cell_type": "code",
      "execution_count": null,
      "metadata": {
        "id": "pohRSmSExbkq"
      },
      "outputs": [],
      "source": [
        "## Insert your code here"
      ]
    },
    {
      "cell_type": "markdown",
      "metadata": {
        "id": "a3sZ7K-Tb6S_"
      },
      "source": [
        "---\n",
        "<font color=green>Q18: (6 Marks) </font>\n",
        "<br><font color='green'>\n",
        "Extract the 20 hidden factors in a matrix F. Check that shape of F is $(252,20)$\n",
        "</font>\n",
        "\n",
        "</font>\n",
        "\n",
        "---"
      ]
    },
    {
      "cell_type": "code",
      "execution_count": null,
      "metadata": {
        "id": "CzT32wMixcjq"
      },
      "outputs": [],
      "source": [
        "## Insert your code here"
      ]
    },
    {
      "cell_type": "markdown",
      "metadata": {
        "id": "nz-ncrUmCAVW"
      },
      "source": [
        "---\n",
        "<font color=green>Q19: (3 Marks) </font>\n",
        "<br><font color='green'>\n",
        "Perform the Regression Analysis of 'AAPL' for the date '2024-03-28', using a historical data length of 252 days using previous $F$ Matrix. Compare the R-squared from the ones obtained at Q11.\n",
        "</font>\n",
        "\n",
        "</font>\n",
        "\n",
        "---"
      ]
    },
    {
      "cell_type": "code",
      "execution_count": null,
      "metadata": {
        "id": "vcPG6YWoxdgn"
      },
      "outputs": [],
      "source": [
        "## Insert your code here"
      ]
    },
    {
      "cell_type": "markdown",
      "metadata": {
        "id": "IDU8xmpi_ueR"
      },
      "source": [
        "# Ornstein Uhlenbeck\n",
        "\n",
        "The Ornstein-Uhlenbeck process is defined by the following stochastic differential equation (SDE):\n",
        "\n",
        "$$ dX_t = \\theta (\\mu - X_t) dt + \\sigma dW_t $$\n",
        "\n",
        "where:\n",
        "\n",
        "- **$ X_t $**: The value of the process at time $ t $.\n",
        "- **$ \\mu $**: The long-term mean (equilibrium level) to which the process reverts.\n",
        "- **$ \\theta $**: The speed of reversion or the rate at which the process returns to the mean.\n",
        "- **$ \\sigma $**: The volatility (standard deviation), representing the magnitude of random fluctuations.\n",
        "- **$ W_t $**: A Wiener process or Brownian motion that adds stochastic (random) noise.\n",
        "\n",
        "This equation describes a process where the variable $ X_t $ moves towards the mean $ \\mu $ at a rate determined by $ \\theta $, with random noise added by $ \\sigma dW_t $."
      ]
    },
    {
      "cell_type": "markdown",
      "metadata": {
        "id": "1HMYOiWsP53c"
      },
      "source": [
        "---\n",
        "<font color=green>Q20: (3 Marks) </font>\n",
        "<br><font color='green'>\n",
        "In the context of mean reversion, which quantity should be modeled using an Ornstein-Uhlenbeck process?\n",
        "</font>\n",
        "\n",
        "---"
      ]
    },
    {
      "cell_type": "markdown",
      "metadata": {
        "id": "SiO01w7fO_bR"
      },
      "source": [
        "**Write your answers here:**"
      ]
    },
    {
      "cell_type": "markdown",
      "metadata": {
        "id": "t31Q2iWgQgsO"
      },
      "source": [
        "---\n",
        "<font color=green>Q21: (5 Marks) </font>\n",
        "<br><font color='green'>\n",
        "Explain how the parameters $ \\theta $ and $ \\sigma $ can be determined using the following equations. Also, detail the underlying assumptions:\n",
        "$$ E[X] = \\mu $$\n",
        "$$ \\text{Var}[X] = \\frac{\\sigma^2}{2\\theta} $$\n",
        "</font>\n",
        "\n",
        "---"
      ]
    },
    {
      "cell_type": "markdown",
      "metadata": {
        "id": "v_KjMbQplj4U"
      },
      "source": [
        "**Write your answers here:**"
      ]
    },
    {
      "cell_type": "markdown",
      "metadata": {
        "id": "5JvTPsTTSMp4"
      },
      "source": [
        "---\n",
        "<font color=green>Q22: (2 Marks) </font>\n",
        "<br><font color='green'>\n",
        "Create a function named `extract_s_scores` which computes 's scores' for the last element in a list of floating-point numbers. This function calculates the scores using the following formula $ \\text{s scores} = \\frac{X_T - \\mu}{\\sigma} $ where `list_xi` represents a list containing a sequence of floating-point numbers $(X_0, \\cdots, X_T)$.\n",
        "\n",
        "</font>\n",
        "\n",
        "---"
      ]
    },
    {
      "cell_type": "code",
      "execution_count": null,
      "metadata": {
        "id": "unNHgTj8xkv5"
      },
      "outputs": [],
      "source": [
        "## Insert your code here"
      ]
    },
    {
      "cell_type": "markdown",
      "metadata": {
        "id": "jAB_ANF2gCiY"
      },
      "source": [
        "# Autoencoder Analysis\n",
        "\n",
        "Autoencoders are neural networks used for unsupervised learning, particularly for dimensionality reduction and feature extraction. Training an autoencoder on the $Z_i$ matrix aims to identify hidden factors capturing the intrinsic structures in financial data.\n",
        "\n",
        "### Architecture\n",
        "- **Encoder**: Compresses input data into a smaller latent space representation.\n",
        "  - *Input Layer*: Matches the number of features in the $Z_i$ matrix.\n",
        "  - *Hidden Layers*: Compress data through progressively smaller layers.\n",
        "  - *Latent Space*: Encodes the data into hidden factors.\n",
        "- **Decoder**: Reconstructs input data from the latent space.\n",
        "  - *Hidden Layers*: Gradually expand to the original dimension.\n",
        "  - *Output Layer*: Matches the input layer to recreate the original matrix.\n",
        "\n",
        "### Training\n",
        "The autoencoder is trained by minimizing reconstruction loss, usually mean squared error (MSE), between the input $Z_i$ matrix and the decoder's output.\n",
        "\n",
        "### Hidden Factors Extraction\n",
        "After training, the encoder's latent space provides the most important underlying patterns in the stock returns."
      ]
    },
    {
      "cell_type": "markdown",
      "metadata": {
        "id": "AJzNtknXgdqF"
      },
      "source": [
        "---\n",
        "<font color=green>Q23: (2 Marks) </font>\n",
        "<br><font color='green'>\n",
        "Modify the standardized returns matrix `Z_matrix` to reduce the influence of extreme outliers on model trainingby ensuring that all values in the matrix `Z_matrix` do not exceed 3 standard deviations from the mean. Specifically, cap these values at the interval $-3, 3]$. Store the adjusted values in a new matrix, `Z_hat`.\n",
        "</font>\n",
        "\n",
        "----"
      ]
    },
    {
      "cell_type": "code",
      "execution_count": null,
      "metadata": {
        "id": "Ln7vWV0TxmFk"
      },
      "outputs": [],
      "source": [
        "## Insert your code here"
      ]
    },
    {
      "cell_type": "markdown",
      "metadata": {
        "id": "BNJDLYZ9g_V4"
      },
      "source": [
        "---\n",
        "<font color=green>Q24: (1 Marks) </font>\n",
        "<br><font color='green'>\n",
        "Fetch the `Z_hat` data from GitHub, and we'll proceed with it now.\n",
        "</font>\n",
        "\n"
      ]
    },
    {
      "cell_type": "code",
      "execution_count": null,
      "metadata": {
        "id": "BraH_nivxngd"
      },
      "outputs": [],
      "source": [
        "## Insert your code here"
      ]
    },
    {
      "cell_type": "markdown",
      "metadata": {
        "id": "c3MRBtXIiWcN"
      },
      "source": [
        "---\n",
        "<font color=green>Q25: (3 Marks) </font>\n",
        "<br><font color='green'>\n",
        "Segment the standardized and capped returns matrix $\\hat{Z}$ into two subsets for model training and testing. Precisly Allocate 70% of the data in $\\hat{Z}$ to the training set $ \\hat{Z}_{train} $ and Allocate the remaining 30% to the testing set $\\hat{Z}_{test}$. Treat each stock within $\\hat{Z}$ as an individual sample, by flattening temporal dependencies.\n",
        "</font>\n",
        "\n"
      ]
    },
    {
      "cell_type": "code",
      "execution_count": null,
      "metadata": {
        "id": "Ggdgu_3wxobS"
      },
      "outputs": [],
      "source": [
        "## Insert your code here"
      ]
    },
    {
      "cell_type": "markdown",
      "metadata": {
        "id": "yqWeD_efihbH"
      },
      "source": [
        "---\n",
        "<font color=green>Q26: (10 Marks) </font>\n",
        "<br><font color='green'>\n",
        "Please create an autoencoder following the instructions provided in  **[End-to-End Policy Learning of a Statistical Arbitrage Autoencoder Architecture](https://arxiv.org/pdf/2402.08233.pdf)**, Use the model 'Variant 2' in Table 1.\n",
        "</font>\n",
        "\n",
        "---"
      ]
    },
    {
      "cell_type": "code",
      "execution_count": null,
      "metadata": {
        "id": "hyf_dfsoxp_X"
      },
      "outputs": [],
      "source": [
        "## Insert your code here"
      ]
    },
    {
      "cell_type": "markdown",
      "metadata": {
        "id": "zq6o0QBPateR"
      },
      "source": [
        "---\n",
        "<font color=green>Q27 (1 Mark) :\n",
        "\n",
        "Display all the parameters of the deep neural network.\n",
        "</font>\n",
        "\n",
        "---"
      ]
    },
    {
      "cell_type": "code",
      "execution_count": null,
      "metadata": {
        "id": "yLyuzLkGxrAd"
      },
      "outputs": [],
      "source": [
        "## Insert your code here"
      ]
    },
    {
      "cell_type": "markdown",
      "metadata": {
        "id": "2lNBOw3ait03"
      },
      "source": [
        "---\n",
        "<font color=green>Q28: (3 Marks) </font>\n",
        "<br><font color='green'>\n",
        "Train your model using the Adam optimizer for 20 epochs with a batch size equal to 8 and validation split to 20%. Specify the loss function you've chosen.\n",
        "</font>\n"
      ]
    },
    {
      "cell_type": "code",
      "execution_count": null,
      "metadata": {
        "id": "IBUtUlxIxsrx"
      },
      "outputs": [],
      "source": [
        "## Insert your code here"
      ]
    },
    {
      "cell_type": "markdown",
      "metadata": {
        "id": "8xI8O24djAYO"
      },
      "source": [
        "---\n",
        "<font color=green>Q29: (3 Marks) </font>\n",
        "<br><font color='green'>\n",
        "Predict using the testing set and extract the residuals based on the methodology described in **[End-to-End Policy Learning of a Statistical Arbitrage Autoencoder Architecture](https://arxiv.org/pdf/2402.08233.pdf)**.\n",
        "for 'NVDA' stock.\n",
        "</font>\n",
        "\n",
        "---"
      ]
    },
    {
      "cell_type": "code",
      "execution_count": null,
      "metadata": {
        "id": "S-EDTK7wxtxB"
      },
      "outputs": [],
      "source": [
        "## Insert your code here"
      ]
    },
    {
      "cell_type": "markdown",
      "metadata": {
        "id": "mYyVOZu90CIK"
      },
      "source": [
        "<font color=green>Q30: (7 Marks) </font>\n",
        "<br><font color='green'>\n",
        "By reading carrefully the paper **[End-to-End Policy Learning of a Statistical Arbitrage Autoencoder Architecture](https://arxiv.org/pdf/2402.08233.pdf)**, answers the following question:\n",
        "1. **Summarize the Key Actions**: Highlight the main experiments and methodologies employed by the authors in Section 5.\n",
        "2. **Reproduction Steps**: Detail the necessary steps required to replicate the authors' approach based on the descriptions provided in the paper.\n",
        "3. **Proposed Improvement**: Suggest one potential enhancement to the methodology that could potentially increase the effectiveness or efficiency of the model.\n",
        "\n"
      ]
    },
    {
      "cell_type": "markdown",
      "metadata": {
        "id": "na95zQB40hRG"
      },
      "source": [
        "**Write your answers here:**\n",
        "\n",
        "\n",
        "\n",
        "\n",
        "\n",
        "\n",
        "\n",
        "\n"
      ]
    }
  ],
  "metadata": {
    "colab": {
      "include_colab_link": true,
      "provenance": []
    },
    "kernelspec": {
      "display_name": "Python 3",
      "name": "python3"
    },
    "language_info": {
      "codemirror_mode": {
        "name": "ipython",
        "version": 3
      },
      "file_extension": ".py",
      "mimetype": "text/x-python",
      "name": "python",
      "nbconvert_exporter": "python",
      "pygments_lexer": "ipython3",
      "version": "3.11.5"
    }
  },
  "nbformat": 4,
  "nbformat_minor": 0
}
