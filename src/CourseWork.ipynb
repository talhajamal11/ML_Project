{
  "cells": [
    {
      "cell_type": "markdown",
      "metadata": {
        "colab_type": "text",
        "id": "view-in-github"
      },
      "source": [
        "<a href=\"https://colab.research.google.com/github/Jandsy/ml_finance_imperial/blob/main/Coursework/CourseWork.ipynb\" target=\"_parent\"><img src=\"https://colab.research.google.com/assets/colab-badge.svg\" alt=\"Open In Colab\"/></a>"
      ]
    },
    {
      "cell_type": "markdown",
      "metadata": {
        "id": "zSIsUTeyXNr_"
      },
      "source": [
        "# **<center>Machine Learning and Finance </center>**\n",
        "\n",
        "\n",
        "## <center> CourseWork 2024 - StatArb </center>\n"
      ]
    },
    {
      "cell_type": "markdown",
      "metadata": {
        "id": "kBDj0uD44dQL"
      },
      "source": [
        "\n",
        "In this coursework, you will delve into and replicate selected elements of the research detailed in the paper **[End-to-End Policy Learning of a Statistical Arbitrage Autoencoder Architecture](https://arxiv.org/pdf/2402.08233.pdf)**. **However, we will not reproduce the entire study.**\n",
        "\n",
        "## Overview\n",
        "\n",
        "This study redefines Statistical Arbitrage (StatArb) by combining Autoencoder architectures and policy learning to generate trading strategies. Traditionally, StatArb involves finding the mean of a synthetic asset through classical or PCA-based methods before developing a mean reversion strategy. However, this paper proposes a data-driven approach using an Autoencoder trained on US stock returns, integrated into a neural network representing portfolio trading policies to output portfolio allocations directly.\n",
        "\n",
        "\n",
        "## Coursework Goal\n",
        "\n",
        "This coursework will replicate these results, providing hands-on experience in implementing and evaluating this innovative end-to-end policy learning Autoencoder within financial trading strategies.\n",
        "\n",
        "## Outline\n",
        "\n",
        "- [Data Preparation and Exploration](#Data-Preparation-and-Exploration)\n",
        "- [Fama French Analysis](#Fama-French-Analysis)\n",
        "- [PCA Analysis](#PCA-Analysis)\n",
        "- [Ornstein Uhlenbeck](#Ornstein-Uhlenbeck)\n",
        "- [Autoencoder Analysis](#Autoencoder-Analysis)\n",
        "\n",
        "\n",
        "\n",
        "**Description:**\n",
        "The Coursework is graded on a 100 point scale and is divided into five  parts. Below is the mark distribution for each question:\n",
        "\n",
        "| **Problem**  | **Question**          | **Number of Marks** |\n",
        "|--------------|-----------------------|---------------------|\n",
        "| **Part A**   | Question 1            | 4                   |\n",
        "|              | Question 2            | 1                   |\n",
        "|              | Question 3            | 3                   |\n",
        "|              | Question 4            | 3                   |\n",
        "|              | Question 5            | 1                   |\n",
        "|              | Question 6            | 3                   |\n",
        "|**Part  B**    | Question 7           | 1                   |\n",
        "|              | Question 8            | 5                   |\n",
        "|              | Question 9            | 4                   |\n",
        "|              | Question 10           | 5                   |\n",
        "|              | Question 11           | 2                   |\n",
        "|              | Question 12           | 3                   |\n",
        "|**Part  C**    | Question 13          | 3                   |\n",
        "|              | Question 14           | 1                   |\n",
        "|              | Question 15           | 3                   |\n",
        "|              | Question 16           | 2                   |\n",
        "|              | Question 17           | 7                   |\n",
        "|              | Question 18           | 6                   |\n",
        "|              | Question 19           | 3                   |\n",
        "|  **Part  D** | Question 20           | 3                   |\n",
        "|              | Question 21           | 5                   |\n",
        "|              | Question 22           | 2                   |\n",
        "|  **Part  E** | Question 23           | 2                   |\n",
        "|              | Question 24           | 1                   |\n",
        "|              | Question 25           | 3                   |\n",
        "|              | Question 26           | 10                  |\n",
        "|              | Question 27           | 1                   |\n",
        "|              | Question 28           | 3                   |\n",
        "|              | Question 29           | 3                   |\n",
        "|              | Question 30           | 7                   |\n",
        "\n",
        "\n",
        "\n",
        "\n",
        "Please read the questions carefully and do your best. Good luck!\n",
        "\n",
        "## Objectives\n",
        "\n",
        "\n",
        "\n",
        "## 1. Data Preparation and Exploration\n",
        "Collect, clean, and prepare US stock return data for analysis.\n",
        "\n",
        "## 2. Fama French Analysis\n",
        "Utilize Fama French Factors to isolate the idiosyncratic components of stock returns, differentiating them from market-wide effects. This analysis helps in understanding the unique characteristics of individual stocks relative to broader market trends.\n",
        "\n",
        "## 3. PCA Analysis\n",
        "Employ Principal Component Analysis (PCA) to identify hidden structures and reduce dimensionality in the data. This method helps in extracting significant patterns that might be obscured in high-dimensional datasets.\n",
        "\n",
        "## 4. Ornstein-Uhlenbeck Process\n",
        "Analyze mean-reverting behavior in stock prices using the Ornstein-Uhlenbeck process. This stochastic process is useful for modeling and forecasting based on the assumption that prices will revert to a long-term mean.\n",
        "\n",
        "## 5. Building a Basic Autoencoder Model\n",
        "Construct and train a standard Autoencoder to extract residual idiosyncratic risk.\n",
        "\n",
        "\n",
        "\n",
        "\n",
        "\n",
        "\n"
      ]
    },
    {
      "cell_type": "markdown",
      "metadata": {
        "id": "pFU9ckGplGDf"
      },
      "source": [
        "# Data Preparation and Exploration"
      ]
    },
    {
      "cell_type": "markdown",
      "metadata": {
        "id": "yiqyU4DQlxsV"
      },
      "source": [
        "\n",
        "---\n",
        "<font color=green>Q1: (4 Marks)</font>\n",
        "<br><font color='green'>\n",
        "Write a Python function that accepts a URL parameter and retrieves the NASDAQ-100 companies and their ticker symbols by scraping the relevant Wikipedia page using **[Requests](https://pypi.org/project/requests/)** and **[BeautifulSoup](https://www.crummy.com/software/BeautifulSoup/bs4/doc/)**. Your function should return the data as a list of tuples, with each tuple containing the company name and its ticker symbol. Then, call your function with the appropriate Wikipedia page URL and print the data in a 'Company: Ticker' format.\n",
        "\n",
        "</font>\n",
        "\n",
        "---\n"
      ]
    },
    {
      "cell_type": "code",
      "execution_count": 165,
      "metadata": {
        "id": "lcJXF6aSxCGu"
      },
      "outputs": [],
      "source": [
        "import numpy as np\n",
        "import matplotlib.pyplot as plt\n",
        "import pandas as pd\n",
        "import requests\n",
        "from bs4 import BeautifulSoup"
      ]
    },
    {
      "cell_type": "code",
      "execution_count": 166,
      "metadata": {},
      "outputs": [
        {
          "name": "stdout",
          "output_type": "stream",
          "text": [
            "                         Name Symbol\n",
            "0                  Adobe Inc.   ADBE\n",
            "1                         ADP    ADP\n",
            "2                      Airbnb   ABNB\n",
            "3     Alphabet Inc. (Class A)  GOOGL\n",
            "4     Alphabet Inc. (Class C)   GOOG\n",
            "..                        ...    ...\n",
            "96   Walgreens Boots Alliance    WBA\n",
            "97     Warner Bros. Discovery    WBD\n",
            "98              Workday, Inc.   WDAY\n",
            "99                Xcel Energy    XEL\n",
            "100                   Zscaler     ZS\n",
            "\n",
            "[101 rows x 2 columns]\n"
          ]
        }
      ],
      "source": [
        "\n",
        "def get_nasdaq100_companies(url): # create a function to get the data from the wikipedia page\n",
        "    response = requests.get(url) \n",
        "    soup = BeautifulSoup(response.content, 'html.parser') # parse the html content\n",
        "    table = soup.find('table', {'id': 'constituents'}) # find the table with the id 'constituents'\n",
        "    rows = table.find_all('tr') # find all the rows in the table\n",
        "    data = []\n",
        "    for row in rows[1:]:\n",
        "        cols = row.find_all('td')\n",
        "        data.append((cols[0].text.strip(), cols[1].text.strip()))\n",
        "    return data\n",
        "\n",
        "url = 'https://en.wikipedia.org/wiki/NASDAQ-100' # url of the wikipedia page\n",
        "data = get_nasdaq100_companies(url)\n",
        "\n",
        "df = pd.DataFrame(data, columns=['Name', 'Symbol']) # create a pandas dataframe\n",
        "print(df) "
      ]
    },
    {
      "cell_type": "markdown",
      "metadata": {
        "id": "9VvyNAF9sE7u"
      },
      "source": [
        "---\n",
        "<font color=green>Q2: (1 Mark)</font>\n",
        "<br><font color='green'>\n",
        "Given a list of tuples representing NASDAQ-100 companies (where each tuple contains a company name and its ticker symbol), write a Python script to extract all ticker symbols into a separate list called `tickers_list`.\n",
        "</font>\n",
        "---\n"
      ]
    },
    {
      "cell_type": "code",
      "execution_count": 167,
      "metadata": {
        "id": "yQaWckkXxDLP"
      },
      "outputs": [
        {
          "name": "stdout",
          "output_type": "stream",
          "text": [
            "['ADBE', 'ADP', 'ABNB', 'GOOGL', 'GOOG', 'AMZN', 'AMD', 'AEP', 'AMGN', 'ADI', 'ANSS', 'AAPL', 'AMAT', 'ASML', 'AZN', 'TEAM', 'ADSK', 'BKR', 'BIIB', 'BKNG', 'AVGO', 'CDNS', 'CDW', 'CHTR', 'CTAS', 'CSCO', 'CCEP', 'CTSH', 'CMCSA', 'CEG', 'CPRT', 'CSGP', 'COST', 'CRWD', 'CSX', 'DDOG', 'DXCM', 'FANG', 'DLTR', 'DASH', 'EA', 'EXC', 'FAST', 'FTNT', 'GEHC', 'GILD', 'GFS', 'HON', 'IDXX', 'ILMN', 'INTC', 'INTU', 'ISRG', 'KDP', 'KLAC', 'KHC', 'LRCX', 'LIN', 'LULU', 'MAR', 'MRVL', 'MELI', 'META', 'MCHP', 'MU', 'MSFT', 'MRNA', 'MDLZ', 'MDB', 'MNST', 'NFLX', 'NVDA', 'NXPI', 'ORLY', 'ODFL', 'ON', 'PCAR', 'PANW', 'PAYX', 'PYPL', 'PDD', 'PEP', 'QCOM', 'REGN', 'ROP', 'ROST', 'SIRI', 'SBUX', 'SNPS', 'TTWO', 'TMUS', 'TSLA', 'TXN', 'TTD', 'VRSK', 'VRTX', 'WBA', 'WBD', 'WDAY', 'XEL', 'ZS']\n"
          ]
        }
      ],
      "source": [
        "tickers_list = df['Symbol'].tolist() # get the tickers list\n",
        "print(tickers_list)"
      ]
    },
    {
      "cell_type": "markdown",
      "metadata": {
        "id": "2KEkAPUxsW4s"
      },
      "source": [
        "---\n",
        "<font color=green>Q3: (3 Marks)</font>\n",
        "<br><font color='green'>\n",
        "Using **[yfinance](https://pypi.org/project/yfinance/)** library, write a Python script that accepts a list of stock ticker symbols. For each symbol, download the adjusted closing price data, store it in a dictionary with the ticker symbol as the key, and then convert the final dictionary into a Pandas DataFrame. Handle any errors encountered during data retrieval by printing a message indicating which symbol failed\n",
        "</font>\n",
        "---"
      ]
    },
    {
      "cell_type": "code",
      "execution_count": 168,
      "metadata": {
        "id": "pynohwbpxEg5"
      },
      "outputs": [
        {
          "name": "stdout",
          "output_type": "stream",
          "text": [
            "                                 ADBE         ADP        ABNB       GOOGL  \\\n",
            "Date                                                                        \n",
            "2004-05-25 00:00:00-04:00   22.318415   22.489922         NaN         NaN   \n",
            "2004-05-26 00:00:00-04:00   22.103621   22.276302         NaN         NaN   \n",
            "2004-05-27 00:00:00-04:00   22.173553   22.181913         NaN         NaN   \n",
            "2004-05-28 00:00:00-04:00   22.293438   22.072615         NaN         NaN   \n",
            "2004-06-01 00:00:00-04:00   22.438295   21.908667         NaN         NaN   \n",
            "...                               ...         ...         ...         ...   \n",
            "2024-05-20 00:00:00-04:00  484.690002  251.779999  146.369995  176.919998   \n",
            "2024-05-21 00:00:00-04:00  481.850006  252.139999  144.100006  177.850006   \n",
            "2024-05-22 00:00:00-04:00  483.929993  254.020004  142.710007  176.380005   \n",
            "2024-05-23 00:00:00-04:00  483.309998  251.490005  141.039993  173.550003   \n",
            "2024-05-24 00:00:00-04:00  475.429993  248.899994  144.470001  174.990005   \n",
            "\n",
            "                                 GOOG        AMZN         AMD        AEP  \\\n",
            "Date                                                                       \n",
            "2004-05-25 00:00:00-04:00         NaN    2.181000   14.920000  13.997468   \n",
            "2004-05-26 00:00:00-04:00         NaN    2.234500   15.120000  14.020067   \n",
            "2004-05-27 00:00:00-04:00         NaN    2.381000   15.200000  14.250488   \n",
            "2004-05-28 00:00:00-04:00         NaN    2.425000   15.550000  14.354405   \n",
            "2004-06-01 00:00:00-04:00         NaN    2.511500   15.300000  14.187233   \n",
            "...                               ...         ...         ...        ...   \n",
            "2024-05-20 00:00:00-04:00  178.460007  183.539993  166.330002  92.589996   \n",
            "2024-05-21 00:00:00-04:00  179.539993  183.149994  164.660004  92.620003   \n",
            "2024-05-22 00:00:00-04:00  178.000000  183.130005  165.520004  91.480003   \n",
            "2024-05-23 00:00:00-04:00  175.059998  181.050003  160.429993  89.279999   \n",
            "2024-05-24 00:00:00-04:00  176.330002  180.750000  166.360001  88.970001   \n",
            "\n",
            "                                 AMGN         ADI  ...        TSLA  \\\n",
            "Date                                               ...               \n",
            "2004-05-25 00:00:00-04:00   38.995125   30.762627  ...         NaN   \n",
            "2004-05-26 00:00:00-04:00   39.095055   30.863806  ...         NaN   \n",
            "2004-05-27 00:00:00-04:00   39.244957   30.971327  ...         NaN   \n",
            "2004-05-28 00:00:00-04:00   39.045097   31.085176  ...         NaN   \n",
            "2004-06-01 00:00:00-04:00   38.752434   30.617159  ...         NaN   \n",
            "...                               ...         ...  ...         ...   \n",
            "2024-05-20 00:00:00-04:00  314.540009  217.479996  ...  174.949997   \n",
            "2024-05-21 00:00:00-04:00  314.850006  216.639999  ...  186.600006   \n",
            "2024-05-22 00:00:00-04:00  309.410004  240.160004  ...  180.110001   \n",
            "2024-05-23 00:00:00-04:00  306.500000  234.559998  ...  173.740005   \n",
            "2024-05-24 00:00:00-04:00  305.839996  232.509995  ...  179.240005   \n",
            "\n",
            "                                  TXN        TTD        VRSK        VRTX  \\\n",
            "Date                                                                       \n",
            "2004-05-25 00:00:00-04:00   16.457088        NaN         NaN    8.650000   \n",
            "2004-05-26 00:00:00-04:00   16.268661        NaN         NaN    8.940000   \n",
            "2004-05-27 00:00:00-04:00   16.788424        NaN         NaN    8.770000   \n",
            "2004-05-28 00:00:00-04:00   16.963854        NaN         NaN    8.800000   \n",
            "2004-06-01 00:00:00-04:00   16.801422        NaN         NaN    9.270000   \n",
            "...                               ...        ...         ...         ...   \n",
            "2024-05-20 00:00:00-04:00  199.199997  97.500000  252.410004  445.869995   \n",
            "2024-05-21 00:00:00-04:00  199.009995  95.650002  251.500000  442.000000   \n",
            "2024-05-22 00:00:00-04:00  202.539993  95.320000  253.639999  447.529999   \n",
            "2024-05-23 00:00:00-04:00  197.289993  92.510002  249.250000  450.799988   \n",
            "2024-05-24 00:00:00-04:00  199.179993  94.750000  251.580002  456.950012   \n",
            "\n",
            "                                 WBA   WBD        WDAY        XEL          ZS  \n",
            "Date                                                                           \n",
            "2004-05-25 00:00:00-04:00  21.312399   NaN         NaN   7.806591         NaN  \n",
            "2004-05-26 00:00:00-04:00  21.080687   NaN         NaN   7.853648         NaN  \n",
            "2004-05-27 00:00:00-04:00  21.483152   NaN         NaN   7.928936         NaN  \n",
            "2004-05-28 00:00:00-04:00  21.348991   NaN         NaN   7.994820         NaN  \n",
            "2004-06-01 00:00:00-04:00  21.458763   NaN         NaN   7.947762         NaN  \n",
            "...                              ...   ...         ...        ...         ...  \n",
            "2024-05-20 00:00:00-04:00  17.820000  8.09  259.500000  56.070000  180.600006  \n",
            "2024-05-21 00:00:00-04:00  16.680000  7.89  258.859985  56.740002  176.979996  \n",
            "2024-05-22 00:00:00-04:00  16.469999  8.06  259.880005  55.520000  174.160004  \n",
            "2024-05-23 00:00:00-04:00  15.950000  7.70  260.899994  54.049999  171.910004  \n",
            "2024-05-24 00:00:00-04:00  16.030001  7.73  220.910004  53.720001  171.639999  \n",
            "\n",
            "[5035 rows x 101 columns]\n"
          ]
        }
      ],
      "source": [
        "# lets use yfinance to get the stock data write a Python script that accepts a list of stock ticker symbols. For each symbol, download the adjusted closing price data, store it in a dictionary with the ticker symbol as the key, and then convert the final dictionary into a Pandas DataFrame. Handle any errors encountered during data retrieval by printing a message indicating which symbol failed\n",
        "\n",
        "import yfinance as yf\n",
        "\n",
        "def get_stock_data(tickers_list):\n",
        "    stock_data = {}\n",
        "    for ticker in tickers_list:\n",
        "        try:\n",
        "            stock = yf.Ticker(ticker)\n",
        "            stock_data[ticker] = stock.history('20y')['Close']\n",
        "        except:\n",
        "            print(f'Failed to get data for {ticker}')\n",
        "    return stock_data\n",
        "\n",
        "stock_data = get_stock_data(tickers_list)\n",
        "df = pd.DataFrame(stock_data)\n",
        "print(df)\n"
      ]
    },
    {
      "cell_type": "markdown",
      "metadata": {
        "id": "Np3XHMtatQC_"
      },
      "source": [
        "---\n",
        "<font color=green>Q4: (3 Marks)</font>\n",
        "<br><font color='green'>\n",
        "Write a Python script to analyze stock data stored in a dictionary `stock_data` (where each key is a stock ticker symbol, and each value is a Pandas Series of adjusted closing prices). The script should:\n",
        "1. Convert the dictionary into a DataFrame.\n",
        "2. Calculate the daily returns for each stock.\n",
        "3. Identify columns (ticker symbols) with at least 2000 non-NaN values in their daily returns.\n",
        "4. Create a new DataFrame that only includes these filtered ticker symbols.\n",
        "5. Remove any remaining rows with NaN values in this new DataFrame.\n",
        "</font>\n",
        "\n",
        "---"
      ]
    },
    {
      "cell_type": "code",
      "execution_count": 169,
      "metadata": {
        "id": "2pt3y9_IxFjz"
      },
      "outputs": [
        {
          "name": "stdout",
          "output_type": "stream",
          "text": [
            "                               ADBE       ADP     GOOGL      GOOG      AMZN  \\\n",
            "Date                                                                          \n",
            "2015-12-10 00:00:00-05:00 -0.006699  0.006004 -0.003292 -0.002861 -0.003715   \n",
            "2015-12-11 00:00:00-05:00  0.027653 -0.024924 -0.012657 -0.014130 -0.033473   \n",
            "2015-12-14 00:00:00-05:00  0.020127  0.015241  0.016151  0.012045  0.027744   \n",
            "2015-12-15 00:00:00-05:00  0.008149  0.010284 -0.003213 -0.005844  0.001110   \n",
            "2015-12-16 00:00:00-05:00  0.016380  0.008541  0.021708  0.019761  0.026008   \n",
            "...                             ...       ...       ...       ...       ...   \n",
            "2024-05-20 00:00:00-04:00  0.002606 -0.002180  0.004885  0.006599 -0.006280   \n",
            "2024-05-21 00:00:00-04:00 -0.005859  0.001430  0.005257  0.006052 -0.002125   \n",
            "2024-05-22 00:00:00-04:00  0.004317  0.007456 -0.008265 -0.008577 -0.000109   \n",
            "2024-05-23 00:00:00-04:00 -0.001281 -0.009960 -0.016045 -0.016517 -0.011358   \n",
            "2024-05-24 00:00:00-04:00 -0.016304 -0.010299  0.008297  0.007255 -0.001657   \n",
            "\n",
            "                                AMD       AEP      AMGN       ADI      ANSS  \\\n",
            "Date                                                                          \n",
            "2015-12-10 00:00:00-05:00  0.042553 -0.024355  0.011274  0.008826  0.004968   \n",
            "2015-12-11 00:00:00-05:00 -0.036735 -0.005831 -0.028308 -0.003850 -0.013951   \n",
            "2015-12-14 00:00:00-05:00 -0.008475 -0.000367  0.019078 -0.001932  0.003899   \n",
            "2015-12-15 00:00:00-05:00  0.008547  0.027503  0.028525 -0.004752  0.009544   \n",
            "2015-12-16 00:00:00-05:00  0.076271  0.017309  0.012052  0.017330  0.008354   \n",
            "...                             ...       ...       ...       ...       ...   \n",
            "2024-05-20 00:00:00-04:00  0.011309 -0.000863  0.006625  0.015882  0.002685   \n",
            "2024-05-21 00:00:00-04:00 -0.010040  0.000324  0.000986 -0.003862 -0.005478   \n",
            "2024-05-22 00:00:00-04:00  0.005223 -0.012308 -0.017278  0.108567 -0.001316   \n",
            "2024-05-23 00:00:00-04:00 -0.030752 -0.024049 -0.009405 -0.023318  0.005577   \n",
            "2024-05-24 00:00:00-04:00  0.036963 -0.003472 -0.002153 -0.008740  0.008928   \n",
            "\n",
            "                           ...      TTWO      TMUS      TSLA       TXN  \\\n",
            "Date                       ...                                           \n",
            "2015-12-10 00:00:00-05:00  ... -0.004777  0.007485  0.011358  0.002995   \n",
            "2015-12-11 00:00:00-05:00  ... -0.011575 -0.009356 -0.044259 -0.012647   \n",
            "2015-12-14 00:00:00-05:00  ...  0.005141  0.014444  0.007188  0.000178   \n",
            "2015-12-15 00:00:00-05:00  ...  0.023018  0.044907  0.011483  0.023657   \n",
            "2015-12-16 00:00:00-05:00  ...  0.006389  0.025419  0.060699  0.009036   \n",
            "...                        ...       ...       ...       ...       ...   \n",
            "2024-05-20 00:00:00-04:00  ...  0.020698 -0.000610 -0.014144  0.021434   \n",
            "2024-05-21 00:00:00-04:00  ...  0.003446  0.002807  0.066591 -0.000954   \n",
            "2024-05-22 00:00:00-04:00  ... -0.005349  0.006936 -0.034780  0.017738   \n",
            "2024-05-23 00:00:00-04:00  ...  0.011420 -0.003202 -0.035367 -0.025921   \n",
            "2024-05-24 00:00:00-04:00  ...  0.014902  0.006244  0.031656  0.009580   \n",
            "\n",
            "                               VRSK      VRTX       WBA       WBD      WDAY  \\\n",
            "Date                                                                          \n",
            "2015-12-10 00:00:00-05:00 -0.002615  0.010279  0.000960 -0.002109  0.005037   \n",
            "2015-12-11 00:00:00-05:00 -0.015996 -0.034709 -0.020499 -0.035928 -0.057630   \n",
            "2015-12-14 00:00:00-05:00  0.014390 -0.016491  0.010403 -0.033613  0.000253   \n",
            "2015-12-15 00:00:00-05:00  0.013923  0.013656 -0.005451  0.002646 -0.000380   \n",
            "2015-12-16 00:00:00-05:00  0.021117  0.010658  0.031665  0.024887  0.029378   \n",
            "...                             ...       ...       ...       ...       ...   \n",
            "2024-05-20 00:00:00-04:00  0.003140  0.001482 -0.006135  0.004969  0.006087   \n",
            "2024-05-21 00:00:00-04:00 -0.003605 -0.008680 -0.063973 -0.024722 -0.002466   \n",
            "2024-05-22 00:00:00-04:00  0.008509  0.012511 -0.012590  0.021546  0.003940   \n",
            "2024-05-23 00:00:00-04:00 -0.017308  0.007307 -0.031573 -0.044665  0.003925   \n",
            "2024-05-24 00:00:00-04:00  0.009348  0.013642  0.005016  0.003896 -0.153277   \n",
            "\n",
            "                                XEL  \n",
            "Date                                 \n",
            "2015-12-10 00:00:00-05:00 -0.013889  \n",
            "2015-12-11 00:00:00-05:00  0.004312  \n",
            "2015-12-14 00:00:00-05:00  0.010017  \n",
            "2015-12-15 00:00:00-05:00  0.007935  \n",
            "2015-12-16 00:00:00-05:00  0.023896  \n",
            "...                             ...  \n",
            "2024-05-20 00:00:00-04:00  0.009906  \n",
            "2024-05-21 00:00:00-04:00  0.011949  \n",
            "2024-05-22 00:00:00-04:00 -0.021502  \n",
            "2024-05-23 00:00:00-04:00 -0.026477  \n",
            "2024-05-24 00:00:00-04:00 -0.006105  \n",
            "\n",
            "[2128 rows x 89 columns]\n"
          ]
        }
      ],
      "source": [
        "'''\n",
        "Write a Python script to analyze stock data stored in a dictionary `stock_data` (where each key is a stock ticker symbol, and each value is a Pandas Series of adjusted closing prices). The script should:\n",
        "1. Convert the dictionary into a DataFrame.\n",
        "2. Calculate the daily returns for each stock.\n",
        "3. Identify columns (ticker symbols) with at least 2000 non-NaN values in their daily returns.\n",
        "4. Create a new DataFrame that only includes these filtered ticker symbols.\n",
        "5. Remove any remaining rows with NaN values in this new DataFrame.\n",
        "'''\n",
        "# 1. Convert the dictionary into a DataFrame.\n",
        "df = pd.DataFrame(stock_data)\n",
        "# 2. Calculate the daily returns for each stock.\n",
        "df_daily_returns = df.pct_change()\n",
        "# 3. Identify columns (ticker symbols) with at least 2000 non-NaN values in their daily returns.\n",
        "valid_columns = df_daily_returns.columns[df_daily_returns.notnull().sum() >= 2000]\n",
        "# 4. Create a new DataFrame that only includes these filtered ticker symbols.\n",
        "df_filtered = df_daily_returns[valid_columns]\n",
        "# 5. Remove any remaining rows with NaN values in this new DataFrame.\n",
        "df_filtered = df_filtered.dropna()\n",
        "\n",
        "print(df_filtered)\n"
      ]
    },
    {
      "cell_type": "markdown",
      "metadata": {
        "id": "O3xAawJ8nPbH"
      },
      "source": [
        "---\n",
        "<font color=green>Q5: (1 Mark)</font>\n",
        "<br><font color='green'>\n",
        "Download the dataset named `df_filtered_nasdaq_100` from the GitHub repository of the course.\n",
        "</font>\n",
        "\n",
        "---"
      ]
    },
    {
      "cell_type": "code",
      "execution_count": 170,
      "metadata": {
        "id": "Ko4juu_HxHnT"
      },
      "outputs": [
        {
          "name": "stdout",
          "output_type": "stream",
          "text": [
            "                ADBE       ADP     GOOGL      GOOG      AMZN       AMD  \\\n",
            "Date                                                                     \n",
            "2015-12-10 -0.006699  0.006004 -0.003292 -0.002861 -0.003715  0.042553   \n",
            "2015-12-11  0.027653 -0.024924 -0.012657 -0.014130 -0.033473 -0.036735   \n",
            "2015-12-14  0.020127  0.015241  0.016151  0.012045  0.027744 -0.008475   \n",
            "2015-12-15  0.008149  0.010283 -0.003213 -0.005844  0.001110  0.008547   \n",
            "2015-12-16  0.016380  0.008541  0.021708  0.019761  0.026008  0.076271   \n",
            "...              ...       ...       ...       ...       ...       ...   \n",
            "2024-05-06  0.015241  0.003514  0.005142  0.004971  0.013372  0.034396   \n",
            "2024-05-07 -0.002674  0.009805  0.018739  0.018548  0.000318 -0.008666   \n",
            "2024-05-08 -0.008471 -0.008894 -0.010920 -0.010521 -0.004026 -0.005245   \n",
            "2024-05-09 -0.011166  0.009097  0.003424  0.002454  0.007979 -0.008007   \n",
            "2024-05-10 -0.000746  0.006975 -0.007708 -0.007518 -0.010660 -0.003084   \n",
            "\n",
            "                 AEP      AMGN       ADI      ANSS  ...      TTWO      TMUS  \\\n",
            "Date                                                ...                       \n",
            "2015-12-10 -0.024356  0.011274  0.008826  0.004968  ... -0.004777  0.007485   \n",
            "2015-12-11 -0.005831 -0.028308 -0.003850 -0.013951  ... -0.011575 -0.009356   \n",
            "2015-12-14 -0.000366  0.019078 -0.001932  0.003899  ...  0.005141  0.014444   \n",
            "2015-12-15  0.027503  0.028525 -0.004752  0.009544  ...  0.023018  0.044907   \n",
            "2015-12-16  0.017309  0.012053  0.017330  0.008354  ...  0.006389  0.025419   \n",
            "...              ...       ...       ...       ...  ...       ...       ...   \n",
            "2024-05-06  0.002370 -0.037939  0.018484  0.006478  ...  0.016863 -0.013548   \n",
            "2024-05-07  0.011936  0.002738  0.001230  0.010728  ... -0.000067 -0.001109   \n",
            "2024-05-08  0.007900  0.023343  0.006337  0.005907  ... -0.015910  0.003946   \n",
            "2024-05-09  0.004085  0.018060 -0.000342  0.000887  ... -0.001987  0.011361   \n",
            "2024-05-10  0.007257 -0.008662  0.011719  0.003056  ...  0.001373 -0.002915   \n",
            "\n",
            "                TSLA       TXN      VRSK      VRTX       WBA       WBD  \\\n",
            "Date                                                                     \n",
            "2015-12-10  0.011358  0.002996 -0.002616  0.010279  0.000960 -0.002109   \n",
            "2015-12-11 -0.044259 -0.012648 -0.015996 -0.034709 -0.020499 -0.035928   \n",
            "2015-12-14  0.007188  0.000178  0.014390 -0.016491  0.010402 -0.033613   \n",
            "2015-12-15  0.011483  0.023657  0.013923  0.013656 -0.005450  0.002646   \n",
            "2015-12-16  0.060699  0.009036  0.021117  0.010658  0.031664  0.024887   \n",
            "...              ...       ...       ...       ...       ...       ...   \n",
            "2024-05-06  0.019703  0.015427  0.019087  0.003540 -0.030881 -0.001255   \n",
            "2024-05-07 -0.037616  0.012752  0.021252  0.019230  0.005214 -0.023869   \n",
            "2024-05-08 -0.017378  0.007007 -0.009838  0.020915 -0.006916  0.003861   \n",
            "2024-05-09 -0.015739  0.007448  0.001676  0.000406  0.001161  0.030769   \n",
            "2024-05-10 -0.020352  0.009335  0.013593  0.009046 -0.003478  0.013682   \n",
            "\n",
            "                WDAY       XEL  \n",
            "Date                            \n",
            "2015-12-10  0.005037 -0.013889  \n",
            "2015-12-11 -0.057630  0.004311  \n",
            "2015-12-14  0.000253  0.010017  \n",
            "2015-12-15 -0.000380  0.007934  \n",
            "2015-12-16  0.029378  0.023897  \n",
            "...              ...       ...  \n",
            "2024-05-06 -0.022949  0.002028  \n",
            "2024-05-07 -0.001921  0.012141  \n",
            "2024-05-08  0.000802 -0.001636  \n",
            "2024-05-09 -0.014702  0.005644  \n",
            "2024-05-10  0.001545  0.003983  \n",
            "\n",
            "[2118 rows x 89 columns]\n"
          ]
        }
      ],
      "source": [
        "# lets use github link to get the data\n",
        "nasdaq100 = 'https://raw.githubusercontent.com/Jandsy/ml_finance_imperial/main/Coursework/df_filtered_nasdaq_100.csv'\n",
        "df_filtered_nasdaq_100 = pd.read_csv(nasdaq100, index_col=0)\n",
        "print(df_filtered_nasdaq_100)"
      ]
    },
    {
      "cell_type": "markdown",
      "metadata": {
        "id": "1WbCUDabWQoZ"
      },
      "source": [
        "---\n",
        "<font color=green>Q6: (3 Marks) </font>\n",
        "<br><font color='green'>\n",
        "Conduct an in-depth analysis of the `df_filtered_nasdaq_100` dataset from GitHub. Answer the following questions:\n",
        "- Which stock had the best performance over the entire period?\n",
        "- What is the average daily return of 'AAPL'?\n",
        "- What is the worst daily return? Provide the stock name and the date it occurred.\n",
        "</font>\n",
        "\n",
        "---"
      ]
    },
    {
      "cell_type": "code",
      "execution_count": 171,
      "metadata": {
        "id": "kPfiDWWlxI0Z"
      },
      "outputs": [
        {
          "name": "stdout",
          "output_type": "stream",
          "text": [
            "NVDA\n"
          ]
        }
      ],
      "source": [
        "'''\n",
        "which stock has the best performance over the entire period\n",
        "'''\n",
        " # first we calculate the sum of the daily returns for each stock\n",
        "stock_returns = df_filtered_nasdaq_100.sum()\n",
        "# then we get the index of the stock with the highest sum\n",
        "best_stock = stock_returns.idxmax() \n",
        "print(best_stock) "
      ]
    },
    {
      "cell_type": "code",
      "execution_count": 172,
      "metadata": {},
      "outputs": [
        {
          "name": "stdout",
          "output_type": "stream",
          "text": [
            "The average daily return for AAPL is : 0.0010849409515136207\n"
          ]
        }
      ],
      "source": [
        "'''\n",
        "What is the average daily return of 'AAPL'?\n",
        "'''\n",
        "average_daily_return = df_filtered_nasdaq_100['AAPL'].mean()\n",
        "print(f'The average daily return for AAPL is :', average_daily_return)"
      ]
    },
    {
      "cell_type": "code",
      "execution_count": 173,
      "metadata": {},
      "outputs": [
        {
          "name": "stdout",
          "output_type": "stream",
          "text": [
            "The worst daily return is -0.4464579394678258 and it occurred on 2020-03-09 for FANG (Diamondback Energy, Inc.)\n"
          ]
        }
      ],
      "source": [
        "'''\n",
        "What is the worst daily return? Provide the stock name and the date it occurred.\n",
        "\n",
        "'''\n",
        "# first we get the worst daily return\n",
        "worst_daily_return = df_filtered_nasdaq_100.min().min()\n",
        "# then we get the date of the worst daily return\n",
        "worst_daily_return_date = df_filtered_nasdaq_100.stack()[df_filtered_nasdaq_100.stack() == worst_daily_return].index[0] # stack method is used to convert the dataframe into a series and then we get the index of the worst daily return\n",
        "stock = worst_daily_return_date[1]\n",
        "stock_name = yf.Ticker(stock).info['longName']\n",
        "print(f'The worst daily return is {worst_daily_return} and it occurred on {worst_daily_return_date[0]} for {stock} ({stock_name})')\n"
      ]
    },
    {
      "cell_type": "markdown",
      "metadata": {
        "id": "hcY-V82zXGqc"
      },
      "source": [
        "# Fama French Analysis\n",
        "\n",
        "The Fama-French five-factor model is an extension of the classic three-factor model used in finance to describe stock returns. It is designed to better capture the risk associated with stocks and explain differences in returns. This model includes the following factors:\n",
        "\n",
        "1. **Market Risk (MKT)**: The excess return of the market over the risk-free rate. It captures the overall market's premium.\n",
        "2. **Size (SMB, \"Small Minus Big\")**: The performance of small-cap stocks relative to large-cap stocks.\n",
        "3. **Value (HML, \"High Minus Low\")**: The performance of stocks with high book-to-market values relative to those with low book-to-market values.\n",
        "4. **Profitability (RMW, \"Robust Minus Weak\")**: The difference in returns between companies with robust (high) and weak (low) profitability.\n",
        "5. **Investment (CMA, \"Conservative Minus Aggressive\")**: The difference in returns between companies that invest conservatively and those that invest aggressively.\n",
        "\n",
        "## Additional Factor\n",
        "\n",
        "6. **Momentum (MOM)**: This factor represents the tendency of stocks that have performed well in the past to continue performing well, and the reverse for stocks that have performed poorly.\n",
        "\n",
        "### Mathematical Representation\n",
        "\n",
        "The return of a stock $R_i^t$ at time $t$ can be modeled as follows :\n",
        "\n",
        "$$\n",
        "R_i^t - R_f^t = \\alpha_i^t + \\beta_{i,MKT}^t(R_M^t - R_f^t) + \\beta_{i,SMB}^t \\cdot SMB^t + \\beta_{i,HML}^t \\cdot HML^t + \\beta_{i,RMW}^t \\cdot RMW^t + \\beta_{i,CMA}^t \\cdot CMA^t + \\beta_{i,MOM}^t \\cdot MOM^t + \\epsilon_i^t\n",
        "$$\n",
        "\n",
        "Where:\n",
        "- $ R_i^t $ is the return of stock $i$ at time $t$\n",
        "- $R_f^t $is the risk-free rate at time $t$\n",
        "- $ R_M^t $ is the market return at time $t$\n",
        "- $\\alpha_i^t $ is the abnormal return or alpha of stock $ i $ at time $t$\n",
        "- $\\beta^t $ coefficients represent the sensitivity of the stock returns to each factor at time $t$\n",
        "- $\\epsilon_i^t $ is the error term or idiosyncratic risk unique to stock $ i $ at time $t$\n",
        "\n",
        "This model is particularly useful for identifying which factors significantly impact stock returns and for constructing a diversified portfolio that is optimized for given risk preferences.\n",
        "\n",
        "\n"
      ]
    },
    {
      "cell_type": "markdown",
      "metadata": {
        "id": "qtFgmpsKQc8B"
      },
      "source": [
        "---\n",
        "<font color=green>Q7: (1 Mark) </font>\n",
        "<br><font color='green'>\n",
        "Download the `fama_french_dataset` from the course's GitHub account.\n",
        "</font>\n",
        "\n",
        "---"
      ]
    },
    {
      "cell_type": "code",
      "execution_count": 174,
      "metadata": {
        "id": "iJVPHhTSxKuk"
      },
      "outputs": [
        {
          "name": "stdout",
          "output_type": "stream",
          "text": [
            "            Mkt-RF   SMB   HML   RMW   CMA     RF   Mom\n",
            "1963-07-01   -0.67  0.02 -0.35  0.03  0.13  0.012 -0.21\n",
            "1963-07-02    0.79 -0.28  0.28 -0.08 -0.21  0.012  0.42\n",
            "1963-07-03    0.63 -0.18 -0.10  0.13 -0.25  0.012  0.41\n",
            "1963-07-05    0.40  0.09 -0.28  0.07 -0.30  0.012  0.07\n",
            "1963-07-08   -0.63  0.07 -0.20 -0.27  0.06  0.012 -0.45\n",
            "...            ...   ...   ...   ...   ...    ...   ...\n",
            "2024-03-22   -0.23 -0.98 -0.53  0.29 -0.37  0.021  0.43\n",
            "2024-03-25   -0.26 -0.10  0.88 -0.22 -0.17  0.021 -0.34\n",
            "2024-03-26   -0.26  0.10 -0.13 -0.50  0.23  0.021  0.09\n",
            "2024-03-27    0.88  1.29  0.91 -0.14  0.58  0.021 -1.34\n",
            "2024-03-28    0.10  0.45  0.48 -0.07  0.09  0.021 -0.44\n",
            "\n",
            "[15290 rows x 7 columns]\n"
          ]
        }
      ],
      "source": [
        "fama_french_dataset = 'https://raw.githubusercontent.com/Jandsy/ml_finance_imperial/main/Coursework/fama_french_dataset.csv'\n",
        "df_fama_french = pd.read_csv(fama_french_dataset, index_col=0)\n",
        "print(df_fama_french)"
      ]
    },
    {
      "cell_type": "markdown",
      "metadata": {
        "id": "S5FJ362KW-wh"
      },
      "source": [
        "---\n",
        "<font color=green>Q8: (5 Marks)</font>\n",
        "<br><font color='green'>\n",
        "\n",
        "Write a Python function called `get_sub_df_ticker(ticker, date, df_filtered, length_history)` that extracts a historical sub-dataframe for a given `ticker` from `df_filtered`. The function should use `length_history` to determine the number of trading days to include, ending at the specified `date`. Return the sub-dataframe for the specified `ticker`.\n",
        "</font>\n",
        "\n",
        "---\n"
      ]
    },
    {
      "cell_type": "code",
      "execution_count": 175,
      "metadata": {},
      "outputs": [],
      "source": [
        "\n",
        "def get_sub_df_ticker(ticker, date, df_filtered, length_history):\n",
        "    \"\"\"\n",
        "    Extract a subset of data for a specific ticker within a defined date range.\n",
        "\n",
        "    Parameters:\n",
        "    ticker (str): The ticker symbol to filter.\n",
        "    date (str or pd.Timestamp): The end date for the data subset.\n",
        "    df_filtered (pd.DataFrame): The DataFrame containing the stock data.\n",
        "    length_history (int): The length of the history to look back in years.\n",
        "\n",
        "    Returns:\n",
        "    pd.DataFrame: The subset of the DataFrame containing the specified ticker's data.\n",
        "    \"\"\"\n",
        "    # Convert the end date to a pandas Timestamp\n",
        "    end_date = pd.to_datetime(date)\n",
        "    \n",
        "    # Ensure the DataFrame index is in datetime format\n",
        "    if not pd.api.types.is_datetime64_any_dtype(df_filtered.index):\n",
        "        df_filtered.index = pd.to_datetime(df_filtered.index)\n",
        "\n",
        "    # Calculate the start date by subtracting the length of history from the end date\n",
        "    start_date = end_date - pd.DateOffset(years=length_history)\n",
        "\n",
        "    # Ensure the date range exists within the DataFrame index\n",
        "    if start_date < df_filtered.index.min():\n",
        "        start_date = df_filtered.index.min()\n",
        "    if end_date > df_filtered.index.max():\n",
        "        end_date = df_filtered.index.max()\n",
        "\n",
        "    # Ensure the ticker exists in the DataFrame columns\n",
        "    if ticker not in df_filtered.columns:\n",
        "        raise ValueError(f\"Ticker '{ticker}' not found in the DataFrame columns\")\n",
        "\n",
        "    # Extract the subset of data within the date range for the specified ticker\n",
        "    sub_df = df_filtered.loc[start_date:end_date, [ticker]]\n",
        "\n",
        "    return sub_df"
      ]
    },
    {
      "cell_type": "code",
      "execution_count": 176,
      "metadata": {},
      "outputs": [
        {
          "data": {
            "text/plain": [
              "\"\\nsub_df = get_sub_df_ticker('AAPL', '2021-01-01', df_filtered_nasdaq_100, 5)\\nprint(sub_df)\\n\""
            ]
          },
          "execution_count": 176,
          "metadata": {},
          "output_type": "execute_result"
        }
      ],
      "source": [
        "'''\n",
        "sub_df = get_sub_df_ticker('AAPL', '2021-01-01', df_filtered_nasdaq_100, 5)\n",
        "print(sub_df)\n",
        "'''"
      ]
    },
    {
      "cell_type": "markdown",
      "metadata": {
        "id": "T-p7nCNYXYNr"
      },
      "source": [
        "---\n",
        "<font color=green>Q9: (4 Marks)</font>\n",
        "<br><font color='green'>\n",
        "Create a Python function named `df_ticker_with_fama_french(ticker, date, df_filtered, length_history, fama_french_data)` that uses `get_sub_df_ticker` to extract historical data for a specific `ticker`. Incorporate the Fama-French factors from `fama_french_data` into the extracted sub-dataframe. Adjust the ticker's returns by subtracting the risk-free rate ('RF') and add other relevant Fama-French factors ('Mkt-RF', 'SMB', 'HML', 'RMW', 'CMA', and 'Mom'). Return the resulting sub-dataframe.\n",
        "</font>\n",
        "\n",
        "---"
      ]
    },
    {
      "cell_type": "code",
      "execution_count": 177,
      "metadata": {
        "id": "pfsdj79HxMnp"
      },
      "outputs": [
        {
          "data": {
            "text/plain": [
              "\"\\n# test the function\\nsub_df_fama_french = df_ticker_with_fama_french('AAPL', '2021-01-01', df_filtered_nasdaq_100, 5, df_fama_french)\\nprint(sub_df_fama_french)\\n\""
            ]
          },
          "execution_count": 177,
          "metadata": {},
          "output_type": "execute_result"
        }
      ],
      "source": [
        "\n",
        "def df_ticker_with_fama_french(ticker, date, df_filtered, length_history, fama_french_data):\n",
        "    \"\"\"\n",
        "    Integrate Fama-French data with the stock data for a specific ticker.\n",
        "\n",
        "    Parameters:\n",
        "    ticker (str): The ticker symbol to filter.\n",
        "    date (str or pd.Timestamp): The end date for the data subset.\n",
        "    df_filtered (pd.DataFrame): The DataFrame containing the stock data.\n",
        "    length_history (int): The length of the history to look back in years.\n",
        "    fama_french_data (pd.DataFrame): The DataFrame containing Fama-French factors.\n",
        "\n",
        "    Returns:\n",
        "    pd.DataFrame: The combined DataFrame with adjusted returns and Fama-French factors.\n",
        "    \"\"\"\n",
        "    # Get the subset of the data for the specified ticker\n",
        "    sub_df = get_sub_df_ticker(ticker, date, df_filtered, length_history)\n",
        "\n",
        "    # Ensure Fama-French data index is in datetime format\n",
        "    if not pd.api.types.is_datetime64_any_dtype(fama_french_data.index):\n",
        "        fama_french_data.index = pd.to_datetime(fama_french_data.index)\n",
        "\n",
        "    # Join the Fama-French data with the stock data\n",
        "    sub_df = sub_df.join(fama_french_data, how='inner')\n",
        "\n",
        "    # Adjusting the returns by subtracting the risk-free rate\n",
        "    sub_df['Adj_Return'] = sub_df[ticker] - sub_df['RF']\n",
        "\n",
        "    # Add other relevant Fama-French factors\n",
        "    factors = ['Mkt-RF', 'SMB', 'HML', 'RMW', 'CMA', 'Mom']\n",
        "    for factor in factors:\n",
        "        if factor in fama_french_data.columns:\n",
        "            sub_df[factor] = sub_df[factor]\n",
        "\n",
        "    return sub_df\n",
        "\n",
        "\n",
        "'''\n",
        "# test the function\n",
        "sub_df_fama_french = df_ticker_with_fama_french('AAPL', '2021-01-01', df_filtered_nasdaq_100, 5, df_fama_french)\n",
        "print(sub_df_fama_french)\n",
        "'''\n"
      ]
    },
    {
      "cell_type": "markdown",
      "metadata": {
        "id": "ykVqmW4PQe5T"
      },
      "source": [
        "---\n",
        "<font color=green>Q10: (5 Marks) </font>\n",
        "<br><font color='green'>\n",
        "Write a Python function named `extract_beta_fama_french` to perform a rolling regression analysis for a given stock at a specific time point using the Fama-French model. The function should accept the following parameters:\n",
        "\n",
        "- `ticker`: A string indicating the stock symbol.\n",
        "- `date`: A string specifying the date for the analysis.\n",
        "- `length_history`: An integer representing the number of days of historical data to include.\n",
        "- `df_filtered`: A pandas DataFrame (assumed to be derived from question 5) containing filtered stock data.\n",
        "- `fama_french_data`: A pandas DataFrame (assumed to be from question 7) that includes Fama-French factors.\n",
        "\n",
        "Utilize the `statsmodels.api` library to conduct the regression.\n",
        "</font>\n",
        "\n",
        "---"
      ]
    },
    {
      "cell_type": "code",
      "execution_count": 178,
      "metadata": {
        "id": "VGSUB3UDxN2B"
      },
      "outputs": [],
      "source": [
        "import statsmodels.api as sm\n",
        "def extract_beta_fama_french(ticker, date, length_history, df_filtered, fama_french_data):\n",
        "    \"\"\"\n",
        "    Perform a rolling regression analysis for a given stock at a specific time point using the Fama-French model.\n",
        "\n",
        "    Parameters:\n",
        "    ticker (str): A string indicating the stock symbol.\n",
        "    date (str): A string specifying the date for the analysis.\n",
        "    length_history (int): An integer representing the number of days of historical data to include.\n",
        "    df_filtered (pd.DataFrame): A pandas DataFrame containing filtered stock data.\n",
        "    fama_french_data (pd.DataFrame): A pandas DataFrame that includes Fama-French factors.\n",
        "\n",
        "    Returns:\n",
        "    Regression results of the Fama-French model.\n",
        "    \"\"\"\n",
        "    # Integrate Fama-French data with the stock data\n",
        "    df_combined = df_ticker_with_fama_french(ticker, date, df_filtered, length_history, fama_french_data)\n",
        "\n",
        "    # Define the independent variables (Fama-French factors)\n",
        "    X = df_combined[['Mkt-RF', 'SMB', 'HML', 'RMW', 'CMA', 'Mom']]\n",
        "    X = sm.add_constant(X)  # Add a constant term to the model\n",
        "\n",
        "    # Define the dependent variable (adjusted returns)\n",
        "    y = df_combined['Adj_Return']\n",
        "\n",
        "    # Perform the regression\n",
        "    model = sm.OLS(y, X).fit()\n",
        "\n",
        "    return model\n"
      ]
    },
    {
      "cell_type": "markdown",
      "metadata": {
        "id": "BY8FqrBjRDTz"
      },
      "source": [
        "---\n",
        "<font color=green>Q11: (2 Marks) </font>\n",
        "<br><font color='green'>\n",
        "Apply the `extract_beta_fama_french` function to the stock symbol 'AAPL' for the date '2024-03-28', using a historical data length of 252 days. Ensure that the `df_filtered` and `fama_french_data` DataFrames are correctly prepared and available in your environment before executing this function. The parameters for the function call are set as follows:\n",
        "\n",
        "- **Ticker**: 'AAPL'\n",
        "- **Date**: '2024-03-28'\n",
        "- **Length of History**: 252 days\n",
        "</font>\n",
        "\n",
        "---\n",
        "\n"
      ]
    },
    {
      "cell_type": "code",
      "execution_count": 179,
      "metadata": {
        "id": "fo6C5-qXxPZO"
      },
      "outputs": [
        {
          "name": "stdout",
          "output_type": "stream",
          "text": [
            "                            OLS Regression Results                            \n",
            "==============================================================================\n",
            "Dep. Variable:             Adj_Return   R-squared:                       0.573\n",
            "Model:                            OLS   Adj. R-squared:                  0.572\n",
            "Method:                 Least Squares   F-statistic:                     466.2\n",
            "Date:                Mon, 27 May 2024   Prob (F-statistic):               0.00\n",
            "Time:                        12:33:48   Log-Likelihood:                 6133.5\n",
            "No. Observations:                2088   AIC:                        -1.225e+04\n",
            "Df Residuals:                    2081   BIC:                        -1.221e+04\n",
            "Df Model:                           6                                         \n",
            "Covariance Type:            nonrobust                                         \n",
            "==============================================================================\n",
            "                 coef    std err          t      P>|t|      [0.025      0.975]\n",
            "------------------------------------------------------------------------------\n",
            "const         -0.0059      0.000    -20.877      0.000      -0.006      -0.005\n",
            "Mkt-RF         0.0127      0.000     49.164      0.000       0.012       0.013\n",
            "SMB           -0.0014      0.000     -2.918      0.004      -0.002      -0.000\n",
            "HML           -0.0061      0.000    -13.418      0.000      -0.007      -0.005\n",
            "RMW            0.0047      0.001      7.862      0.000       0.004       0.006\n",
            "CMA            0.0052      0.001      6.316      0.000       0.004       0.007\n",
            "Mom            0.0002      0.000      0.815      0.415      -0.000       0.001\n",
            "==============================================================================\n",
            "Omnibus:                      184.078   Durbin-Watson:                   1.306\n",
            "Prob(Omnibus):                  0.000   Jarque-Bera (JB):             1048.564\n",
            "Skew:                           0.175   Prob(JB):                    2.03e-228\n",
            "Kurtosis:                       6.454   Cond. No.                         4.19\n",
            "==============================================================================\n",
            "\n",
            "Notes:\n",
            "[1] Standard Errors assume that the covariance matrix of the errors is correctly specified.\n"
          ]
        }
      ],
      "source": [
        "model = extract_beta_fama_french('AAPL', '2024-03-28', 252, df_filtered_nasdaq_100, df_fama_french)\n",
        "print(model.summary())"
      ]
    },
    {
      "cell_type": "markdown",
      "metadata": {
        "id": "-DyA4G1d0HjY"
      },
      "source": [
        "---\n",
        "<font color=green>Q12: (2 Marks)</font>\n",
        "<br><font color='green'>\n",
        "Once the `extract_beta_fama_french` function has been applied to 'AAPL' with the specified parameters, the next step is to analyze the regression summary to identify which Fama-French factor explains the most variance in 'AAPL' returns during the specified period.\n",
        "\n",
        "Follow these steps to perform the analysis:\n",
        "\n",
        "1. **Review the Summary**: Examine the regression output, focusing on the coefficients and their statistical significance (p-values).\n",
        "2. **Identify Key Factor**: Determine which factor has the highest absolute coefficient value and is statistically significant (typically p < 0.05). This factor can be considered as having the strongest influence on 'AAPL' returns for the period.\n",
        "\n",
        "</font>\n",
        "\n",
        "---"
      ]
    },
    {
      "cell_type": "code",
      "execution_count": 180,
      "metadata": {},
      "outputs": [
        {
          "name": "stdout",
          "output_type": "stream",
          "text": [
            "                            OLS Regression Results                            \n",
            "==============================================================================\n",
            "Dep. Variable:             Adj_Return   R-squared:                       0.573\n",
            "Model:                            OLS   Adj. R-squared:                  0.572\n",
            "Method:                 Least Squares   F-statistic:                     466.2\n",
            "Date:                Mon, 27 May 2024   Prob (F-statistic):               0.00\n",
            "Time:                        12:33:48   Log-Likelihood:                 6133.5\n",
            "No. Observations:                2088   AIC:                        -1.225e+04\n",
            "Df Residuals:                    2081   BIC:                        -1.221e+04\n",
            "Df Model:                           6                                         \n",
            "Covariance Type:            nonrobust                                         \n",
            "==============================================================================\n",
            "                 coef    std err          t      P>|t|      [0.025      0.975]\n",
            "------------------------------------------------------------------------------\n",
            "const         -0.0059      0.000    -20.877      0.000      -0.006      -0.005\n",
            "Mkt-RF         0.0127      0.000     49.164      0.000       0.012       0.013\n",
            "SMB           -0.0014      0.000     -2.918      0.004      -0.002      -0.000\n",
            "HML           -0.0061      0.000    -13.418      0.000      -0.007      -0.005\n",
            "RMW            0.0047      0.001      7.862      0.000       0.004       0.006\n",
            "CMA            0.0052      0.001      6.316      0.000       0.004       0.007\n",
            "Mom            0.0002      0.000      0.815      0.415      -0.000       0.001\n",
            "==============================================================================\n",
            "Omnibus:                      184.078   Durbin-Watson:                   1.306\n",
            "Prob(Omnibus):                  0.000   Jarque-Bera (JB):             1048.564\n",
            "Skew:                           0.175   Prob(JB):                    2.03e-228\n",
            "Kurtosis:                       6.454   Cond. No.                         4.19\n",
            "==============================================================================\n",
            "\n",
            "Notes:\n",
            "[1] Standard Errors assume that the covariance matrix of the errors is correctly specified.\n"
          ]
        }
      ],
      "source": [
        "'''\n",
        "1. **Review the Summary**: Examine the regression output, focusing on the coefficients and their statistical significance (p-values).\n",
        "'''\n",
        "print(model.summary())"
      ]
    },
    {
      "cell_type": "markdown",
      "metadata": {
        "id": "thaIsaiFWWNO"
      },
      "source": [
        "**Write your answers here:**"
      ]
    },
    {
      "cell_type": "code",
      "execution_count": 164,
      "metadata": {},
      "outputs": [
        {
          "name": "stdout",
          "output_type": "stream",
          "text": [
            "The key factor that explains the most variance in AAPL returns is: SMB\n"
          ]
        }
      ],
      "source": [
        "'''\n",
        "2. **Identify Key Factor**: Determine which factor has the highest absolute coefficient value and is statistically significant (typically p < 0.05). This factor can be considered as having the strongest influence on 'AAPL' returns for the period.\n",
        "'''\n",
        "# Get the coefficients and p-values for the factors\n",
        "coefficients = model.params[1:]\n",
        "p_values = model.pvalues[1:]\n",
        "\n",
        "# Filter the factors with p-values less than 0.05\n",
        "significant_factors = p_values[p_values < 0.05]\n",
        "\n",
        "# Identify the factor with the highest absolute coefficient value\n",
        "key_factor = significant_factors.abs().idxmax()\n",
        "\n",
        "print(f'The key factor that explains the most variance in AAPL returns is: {key_factor}')"
      ]
    },
    {
      "cell_type": "markdown",
      "metadata": {
        "id": "Pj7qlAq-J8N2"
      },
      "source": [
        "# PCA Analysis"
      ]
    },
    {
      "cell_type": "markdown",
      "metadata": {
        "id": "Qty6V05YXxti"
      },
      "source": [
        "\n",
        "In literature, another method exists for extracting residuals for each stock, utilizing the PCA approach to identify hidden factors in the data. Let's describe this method.\n",
        "\n",
        "The return of a stock $R_i^t$ at time $t$ can be modeled as follows :\n",
        "\n",
        "$$\n",
        "R_i^t  = \\sum_{j=1}^m\\beta_{i,j}^t F_j^t  + \\epsilon_i^t\n",
        "$$\n",
        "\n",
        "Where:\n",
        "- $ R_i^t $ is the return of stock $i$ at time $t$\n",
        "- $m$ is the number of factors selected from PCA\n",
        "-  $ F_j^t $ is the $j$-th hidden factor constructed from PCA at time $t$\n",
        "- $\\beta_{i,j}^t $ are the coefficients representing the sensitivity of the stock returns to each hidden factor.\n",
        "- $\\epsilon_i^t $  is the residual term for stock $i$ at time $t$, representing the portion of the return not explained by the PCA factors.\n",
        "\n",
        "### Representation of Stock Return Data\n",
        "\n",
        "Consider the return data for $N$ stocks over $T$ periods, represented by the matrix $R$ of size $T \\times N$:\n",
        "\n",
        "$$\n",
        "R = \\left[\n",
        "\\begin{array}{cccc}\n",
        "R_1^T & R_2^T & \\cdots & R_N^T \\\\\n",
        "R_1^{T-1} & R_2^{T-1} & \\cdots & R_N^{T-1} \\\\\n",
        "\\vdots & \\vdots & \\ddots & \\vdots \\\\\n",
        "R_1^1 & R_2^1 & \\cdots & R_N^1 \\\\\n",
        "\\end{array}\n",
        "\\right]\n",
        "$$\n",
        "\n",
        "Each element $R_i^k$ of the matrix represents the return of stock $i$ at time $k$ and is defined as:\n",
        "\n",
        "$$\n",
        "R_i^k = \\frac{S_{i,k} - S_{i, k-1}}{S_{i, k-1}}, \\quad k=1,\\cdots, T, \\quad i=1,\\cdots,N\n",
        "$$\n",
        "\n",
        "where $S_{i,k}$ denotes the adjusted close price of stock $i$ at time $k$.\n",
        "\n",
        "### Standardization of Returns\n",
        "\n",
        "To adjust for varying volatilities across stocks, we standardize the returns as follows:\n",
        "\n",
        "$$\n",
        "Z_i^t = \\frac{R_i^t - \\mu_i}{\\sigma_i}\n",
        "$$\n",
        "\n",
        "where $\\mu_i$ and $\\sigma_i$ are the mean and standard deviation of returns for stock $i$ over the period $[t-T, t]$, respectively.\n",
        "\n",
        "### Empirical Correlation Matrix\n",
        "\n",
        "The empirical correlation matrix $C$ is computed from the standardized returns:\n",
        "\n",
        "$$\n",
        "C = \\frac{1}{T-1} Z^T Z\n",
        "$$\n",
        "\n",
        "where $Z^T$ is the transpose of matrix $Z$.\n",
        "\n",
        "### Singular Value Decomposition (SVD)\n",
        "\n",
        "We apply Singular Value Decomposition to the correlation matrix $C$:\n",
        "\n",
        "$$\n",
        "C = U \\Sigma V^T\n",
        "$$\n",
        "\n",
        "Here, $U$ and $V$ are orthogonal matrices representing the left and right singular vectors, respectively, and $\\Sigma$ is a diagonal matrix containing the singular values, which are the square roots of the eigenvalues.\n",
        "\n",
        "### Construction of Hidden Factors\n",
        "\n",
        "For each of the top $m$ components, we construct the selected hidden factors as follows:\n",
        "\n",
        "$$\n",
        "F_j^t = \\sum_{i=1}^N \\frac{\\lambda_{i,j}}{\\sigma_i} R_i^t\n",
        "$$\n",
        "\n",
        "where $\\lambda_{i,j}$ is the $i$-th component of the $j$-th eigenvector (ranked by eigenvalue magnitude).\n"
      ]
    },
    {
      "cell_type": "markdown",
      "metadata": {
        "id": "XIkNjUbFZ3Wy"
      },
      "source": [
        "---\n",
        "<font color=green>Q13 (3 Marks):\n",
        "\n",
        "For the specified period from March 29, 2023 ('2023-03-29'), to March 28, 2024 ('2024-03-28'), generate the matrix $Z$ by standardizing the stock returns using the DataFrame `df_filtered_new`\n",
        "</font>\n",
        "\n",
        "---\n"
      ]
    },
    {
      "cell_type": "code",
      "execution_count": null,
      "metadata": {
        "id": "AqhmrY9xcbnk"
      },
      "outputs": [],
      "source": [
        "## Insert your code here\n"
      ]
    },
    {
      "cell_type": "markdown",
      "metadata": {
        "id": "Quv2tOhXch4-"
      },
      "source": [
        "---\n",
        "<font color=green>Q14: (1 Mark) </font>\n",
        "<br><font color='green'>\n",
        "Download the `Z_matrix` matrix from the course's GitHub account.\n",
        "</font>\n",
        "\n",
        "---"
      ]
    },
    {
      "cell_type": "code",
      "execution_count": null,
      "metadata": {
        "id": "NmSz-J_oxYQa"
      },
      "outputs": [],
      "source": [
        "## Insert your code here"
      ]
    },
    {
      "cell_type": "markdown",
      "metadata": {
        "id": "2d-2MrrzatMc"
      },
      "source": [
        "---\n",
        "<font color=green>Q15: (3 Marks) </font>\n",
        "<br><font color='green'>\n",
        "For the specified period from March 29, 2023 ('2023-03-29'), to March 28, 2024 ('2024-03-28'), compute the correlation matrix\n",
        "$C$ using the matrix `Z_matrix`.\n",
        "</font>\n",
        "\n",
        "---"
      ]
    },
    {
      "cell_type": "code",
      "execution_count": null,
      "metadata": {
        "id": "2rRt-HL1xZqA"
      },
      "outputs": [],
      "source": [
        "## Insert your code here"
      ]
    },
    {
      "cell_type": "markdown",
      "metadata": {
        "id": "7FnUvUEkjAbG"
      },
      "source": [
        "---\n",
        "<font color=green>Q16: (2 Marks) </font>\n",
        "<br><font color='green'>\n",
        "Refind the correlation matrix from the from March 29, 2023 ('2023-03-29'), to March 28, 2024 ('2024-03-28') using pandas correlation matrix method.\n",
        "</font>\n",
        "\n",
        "---"
      ]
    },
    {
      "cell_type": "code",
      "execution_count": null,
      "metadata": {
        "id": "T_g-VjITxasb"
      },
      "outputs": [],
      "source": [
        "## Insert your code here"
      ]
    },
    {
      "cell_type": "markdown",
      "metadata": {
        "id": "lvsiMvgfaxzW"
      },
      "source": [
        "---\n",
        "<font color=green>Q17: (7 Marks) </font>\n",
        "<br><font color='green'>\n",
        "Conduct Singular Value Decomposition on the correlation matrix $C$. Follow these steps:\n",
        "\n",
        "\n",
        "1.   **Perform SVD**: Decompose the matrix $C$ into its singular values and vectors.\n",
        "2.   **Rank Eigenvalues**: Sort the resulting singular values (often squared to compare to eigenvalues) in descending order.\n",
        "3. **Select Components**: Extract the first 20 components based on the largest singular values.\n",
        "4. **Variance Explained**: Print the variance explained by the first 20 Components and dimensions of differents matrix that you created.\n",
        "\n",
        "</font>\n",
        "\n",
        "---"
      ]
    },
    {
      "cell_type": "code",
      "execution_count": null,
      "metadata": {
        "id": "pohRSmSExbkq"
      },
      "outputs": [],
      "source": [
        "## Insert your code here"
      ]
    },
    {
      "cell_type": "markdown",
      "metadata": {
        "id": "a3sZ7K-Tb6S_"
      },
      "source": [
        "---\n",
        "<font color=green>Q18: (6 Marks) </font>\n",
        "<br><font color='green'>\n",
        "Extract the 20 hidden factors in a matrix F. Check that shape of F is $(252,20)$\n",
        "</font>\n",
        "\n",
        "</font>\n",
        "\n",
        "---"
      ]
    },
    {
      "cell_type": "code",
      "execution_count": null,
      "metadata": {
        "id": "CzT32wMixcjq"
      },
      "outputs": [],
      "source": [
        "## Insert your code here"
      ]
    },
    {
      "cell_type": "markdown",
      "metadata": {
        "id": "nz-ncrUmCAVW"
      },
      "source": [
        "---\n",
        "<font color=green>Q19: (3 Marks) </font>\n",
        "<br><font color='green'>\n",
        "Perform the Regression Analysis of 'AAPL' for the date '2024-03-28', using a historical data length of 252 days using previous $F$ Matrix. Compare the R-squared from the ones obtained at Q11.\n",
        "</font>\n",
        "\n",
        "</font>\n",
        "\n",
        "---"
      ]
    },
    {
      "cell_type": "code",
      "execution_count": null,
      "metadata": {
        "id": "vcPG6YWoxdgn"
      },
      "outputs": [],
      "source": [
        "## Insert your code here"
      ]
    },
    {
      "cell_type": "markdown",
      "metadata": {
        "id": "IDU8xmpi_ueR"
      },
      "source": [
        "# Ornstein Uhlenbeck\n",
        "\n",
        "The Ornstein-Uhlenbeck process is defined by the following stochastic differential equation (SDE):\n",
        "\n",
        "$$ dX_t = \\theta (\\mu - X_t) dt + \\sigma dW_t $$\n",
        "\n",
        "where:\n",
        "\n",
        "- **$ X_t $**: The value of the process at time $ t $.\n",
        "- **$ \\mu $**: The long-term mean (equilibrium level) to which the process reverts.\n",
        "- **$ \\theta $**: The speed of reversion or the rate at which the process returns to the mean.\n",
        "- **$ \\sigma $**: The volatility (standard deviation), representing the magnitude of random fluctuations.\n",
        "- **$ W_t $**: A Wiener process or Brownian motion that adds stochastic (random) noise.\n",
        "\n",
        "This equation describes a process where the variable $ X_t $ moves towards the mean $ \\mu $ at a rate determined by $ \\theta $, with random noise added by $ \\sigma dW_t $."
      ]
    },
    {
      "cell_type": "markdown",
      "metadata": {
        "id": "1HMYOiWsP53c"
      },
      "source": [
        "---\n",
        "<font color=green>Q20: (3 Marks) </font>\n",
        "<br><font color='green'>\n",
        "In the context of mean reversion, which quantity should be modeled using an Ornstein-Uhlenbeck process?\n",
        "</font>\n",
        "\n",
        "---"
      ]
    },
    {
      "cell_type": "markdown",
      "metadata": {
        "id": "SiO01w7fO_bR"
      },
      "source": [
        "**Write your answers here:**"
      ]
    },
    {
      "cell_type": "markdown",
      "metadata": {
        "id": "t31Q2iWgQgsO"
      },
      "source": [
        "---\n",
        "<font color=green>Q21: (5 Marks) </font>\n",
        "<br><font color='green'>\n",
        "Explain how the parameters $ \\theta $ and $ \\sigma $ can be determined using the following equations. Also, detail the underlying assumptions:\n",
        "$$ E[X] = \\mu $$\n",
        "$$ \\text{Var}[X] = \\frac{\\sigma^2}{2\\theta} $$\n",
        "</font>\n",
        "\n",
        "---"
      ]
    },
    {
      "cell_type": "markdown",
      "metadata": {
        "id": "v_KjMbQplj4U"
      },
      "source": [
        "**Write your answers here:**"
      ]
    },
    {
      "cell_type": "markdown",
      "metadata": {
        "id": "5JvTPsTTSMp4"
      },
      "source": [
        "---\n",
        "<font color=green>Q22: (2 Marks) </font>\n",
        "<br><font color='green'>\n",
        "Create a function named `extract_s_scores` which computes 's scores' for the last element in a list of floating-point numbers. This function calculates the scores using the following formula $ \\text{s scores} = \\frac{X_T - \\mu}{\\sigma} $ where `list_xi` represents a list containing a sequence of floating-point numbers $(X_0, \\cdots, X_T)$.\n",
        "\n",
        "</font>\n",
        "\n",
        "---"
      ]
    },
    {
      "cell_type": "code",
      "execution_count": null,
      "metadata": {
        "id": "unNHgTj8xkv5"
      },
      "outputs": [],
      "source": [
        "## Insert your code here"
      ]
    },
    {
      "cell_type": "markdown",
      "metadata": {
        "id": "jAB_ANF2gCiY"
      },
      "source": [
        "# Autoencoder Analysis\n",
        "\n",
        "Autoencoders are neural networks used for unsupervised learning, particularly for dimensionality reduction and feature extraction. Training an autoencoder on the $Z_i$ matrix aims to identify hidden factors capturing the intrinsic structures in financial data.\n",
        "\n",
        "### Architecture\n",
        "- **Encoder**: Compresses input data into a smaller latent space representation.\n",
        "  - *Input Layer*: Matches the number of features in the $Z_i$ matrix.\n",
        "  - *Hidden Layers*: Compress data through progressively smaller layers.\n",
        "  - *Latent Space*: Encodes the data into hidden factors.\n",
        "- **Decoder**: Reconstructs input data from the latent space.\n",
        "  - *Hidden Layers*: Gradually expand to the original dimension.\n",
        "  - *Output Layer*: Matches the input layer to recreate the original matrix.\n",
        "\n",
        "### Training\n",
        "The autoencoder is trained by minimizing reconstruction loss, usually mean squared error (MSE), between the input $Z_i$ matrix and the decoder's output.\n",
        "\n",
        "### Hidden Factors Extraction\n",
        "After training, the encoder's latent space provides the most important underlying patterns in the stock returns."
      ]
    },
    {
      "cell_type": "markdown",
      "metadata": {
        "id": "AJzNtknXgdqF"
      },
      "source": [
        "---\n",
        "<font color=green>Q23: (2 Marks) </font>\n",
        "<br><font color='green'>\n",
        "Modify the standardized returns matrix `Z_matrix` to reduce the influence of extreme outliers on model trainingby ensuring that all values in the matrix `Z_matrix` do not exceed 3 standard deviations from the mean. Specifically, cap these values at the interval $-3, 3]$. Store the adjusted values in a new matrix, `Z_hat`.\n",
        "</font>\n",
        "\n",
        "----"
      ]
    },
    {
      "cell_type": "code",
      "execution_count": null,
      "metadata": {
        "id": "Ln7vWV0TxmFk"
      },
      "outputs": [],
      "source": [
        "## Insert your code here"
      ]
    },
    {
      "cell_type": "markdown",
      "metadata": {
        "id": "BNJDLYZ9g_V4"
      },
      "source": [
        "---\n",
        "<font color=green>Q24: (1 Marks) </font>\n",
        "<br><font color='green'>\n",
        "Fetch the `Z_hat` data from GitHub, and we'll proceed with it now.\n",
        "</font>\n",
        "\n"
      ]
    },
    {
      "cell_type": "code",
      "execution_count": null,
      "metadata": {
        "id": "BraH_nivxngd"
      },
      "outputs": [],
      "source": [
        "## Insert your code here"
      ]
    },
    {
      "cell_type": "markdown",
      "metadata": {
        "id": "c3MRBtXIiWcN"
      },
      "source": [
        "---\n",
        "<font color=green>Q25: (3 Marks) </font>\n",
        "<br><font color='green'>\n",
        "Segment the standardized and capped returns matrix $\\hat{Z}$ into two subsets for model training and testing. Precisly Allocate 70% of the data in $\\hat{Z}$ to the training set $ \\hat{Z}_{train} $ and Allocate the remaining 30% to the testing set $\\hat{Z}_{test}$. Treat each stock within $\\hat{Z}$ as an individual sample, by flattening temporal dependencies.\n",
        "</font>\n",
        "\n"
      ]
    },
    {
      "cell_type": "code",
      "execution_count": null,
      "metadata": {
        "id": "Ggdgu_3wxobS"
      },
      "outputs": [],
      "source": [
        "## Insert your code here"
      ]
    },
    {
      "cell_type": "markdown",
      "metadata": {
        "id": "yqWeD_efihbH"
      },
      "source": [
        "---\n",
        "<font color=green>Q26: (10 Marks) </font>\n",
        "<br><font color='green'>\n",
        "Please create an autoencoder following the instructions provided in  **[End-to-End Policy Learning of a Statistical Arbitrage Autoencoder Architecture](https://arxiv.org/pdf/2402.08233.pdf)**, Use the model 'Variant 2' in Table 1.\n",
        "</font>\n",
        "\n",
        "---"
      ]
    },
    {
      "cell_type": "code",
      "execution_count": null,
      "metadata": {
        "id": "hyf_dfsoxp_X"
      },
      "outputs": [],
      "source": [
        "## Insert your code here"
      ]
    },
    {
      "cell_type": "markdown",
      "metadata": {
        "id": "zq6o0QBPateR"
      },
      "source": [
        "---\n",
        "<font color=green>Q27 (1 Mark) :\n",
        "\n",
        "Display all the parameters of the deep neural network.\n",
        "</font>\n",
        "\n",
        "---"
      ]
    },
    {
      "cell_type": "code",
      "execution_count": null,
      "metadata": {
        "id": "yLyuzLkGxrAd"
      },
      "outputs": [],
      "source": [
        "## Insert your code here"
      ]
    },
    {
      "cell_type": "markdown",
      "metadata": {
        "id": "2lNBOw3ait03"
      },
      "source": [
        "---\n",
        "<font color=green>Q28: (3 Marks) </font>\n",
        "<br><font color='green'>\n",
        "Train your model using the Adam optimizer for 20 epochs with a batch size equal to 8 and validation split to 20%. Specify the loss function you've chosen.\n",
        "</font>\n"
      ]
    },
    {
      "cell_type": "code",
      "execution_count": null,
      "metadata": {
        "id": "IBUtUlxIxsrx"
      },
      "outputs": [],
      "source": [
        "## Insert your code here"
      ]
    },
    {
      "cell_type": "markdown",
      "metadata": {
        "id": "8xI8O24djAYO"
      },
      "source": [
        "---\n",
        "<font color=green>Q29: (3 Marks) </font>\n",
        "<br><font color='green'>\n",
        "Predict using the testing set and extract the residuals based on the methodology described in **[End-to-End Policy Learning of a Statistical Arbitrage Autoencoder Architecture](https://arxiv.org/pdf/2402.08233.pdf)**.\n",
        "for 'NVDA' stock.\n",
        "</font>\n",
        "\n",
        "---"
      ]
    },
    {
      "cell_type": "code",
      "execution_count": null,
      "metadata": {
        "id": "S-EDTK7wxtxB"
      },
      "outputs": [],
      "source": [
        "## Insert your code here"
      ]
    },
    {
      "cell_type": "markdown",
      "metadata": {
        "id": "mYyVOZu90CIK"
      },
      "source": [
        "<font color=green>Q30: (7 Marks) </font>\n",
        "<br><font color='green'>\n",
        "By reading carrefully the paper **[End-to-End Policy Learning of a Statistical Arbitrage Autoencoder Architecture](https://arxiv.org/pdf/2402.08233.pdf)**, answers the following question:\n",
        "1. **Summarize the Key Actions**: Highlight the main experiments and methodologies employed by the authors in Section 5.\n",
        "2. **Reproduction Steps**: Detail the necessary steps required to replicate the authors' approach based on the descriptions provided in the paper.\n",
        "3. **Proposed Improvement**: Suggest one potential enhancement to the methodology that could potentially increase the effectiveness or efficiency of the model.\n",
        "\n"
      ]
    },
    {
      "cell_type": "markdown",
      "metadata": {
        "id": "na95zQB40hRG"
      },
      "source": [
        "**Write your answers here:**\n",
        "\n",
        "\n",
        "\n",
        "\n",
        "\n",
        "\n",
        "\n",
        "\n"
      ]
    }
  ],
  "metadata": {
    "colab": {
      "include_colab_link": true,
      "provenance": []
    },
    "kernelspec": {
      "display_name": "Python 3",
      "name": "python3"
    },
    "language_info": {
      "codemirror_mode": {
        "name": "ipython",
        "version": 3
      },
      "file_extension": ".py",
      "mimetype": "text/x-python",
      "name": "python",
      "nbconvert_exporter": "python",
      "pygments_lexer": "ipython3",
      "version": "3.11.3"
    }
  },
  "nbformat": 4,
  "nbformat_minor": 0
}
